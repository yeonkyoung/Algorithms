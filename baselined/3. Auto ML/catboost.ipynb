{
 "cells": [
  {
   "cell_type": "code",
   "execution_count": 2,
   "metadata": {},
   "outputs": [],
   "source": [
    "import pandas as pd\n",
    "data=pd.read_csv('C:/Users/USER/Desktop/진행중/FEMS/datamart/HS_DataMart_v1.0.csv',encoding='cp949')"
   ]
  },
  {
   "cell_type": "code",
   "execution_count": 3,
   "metadata": {},
   "outputs": [
    {
     "name": "stdout",
     "output_type": "stream",
     "text": [
      "<class 'pandas.core.frame.DataFrame'>\n",
      "RangeIndex: 4366 entries, 0 to 4365\n",
      "Data columns (total 24 columns):\n",
      " #   Column                           Non-Null Count  Dtype         \n",
      "---  ------                           --------------  -----         \n",
      " 0   datetime                         4366 non-null   datetime64[ns]\n",
      " 1   초지_전력사용량                         4366 non-null   float64       \n",
      " 2   Press_전력사용량                      4366 non-null   float64       \n",
      " 3   Constant_전력사용량                   4366 non-null   float64       \n",
      " 4   Wire_전력사용량                       4366 non-null   float64       \n",
      " 5   AIR_전력사용량                        4366 non-null   float64       \n",
      " 6   Size_전력사용량                       4366 non-null   float64       \n",
      " 7   Calender_전력사용량                   4366 non-null   float64       \n",
      " 8   Drive_전력사용량                      4366 non-null   float64       \n",
      " 9   Pre-Dryer_전력사용량                  4366 non-null   float64       \n",
      " 10  After-Dryer_전력사용량                4366 non-null   float64       \n",
      " 11  (비정상)지절시 운전                      4366 non-null   float64       \n",
      " 12  (비정상)카렌더 SHEET BREAK SENSOR TAG  4366 non-null   float64       \n",
      " 13  (비정상)PICK-UP VACCUM 파괴 밸브 TAG    4366 non-null   float64       \n",
      " 14  TURNING ROLL 보류율                 4366 non-null   float64       \n",
      " 15  사이로 백수 온도                        4366 non-null   float64       \n",
      " 16  TURNING ROLL_WIRE 진공도 토탈         4366 non-null   float64       \n",
      " 17  TURNING ROLL 속도                  4366 non-null   float64       \n",
      " 18  CENTER NO2 ROLL 속도               4366 non-null   float64       \n",
      " 19  1군 DRYER 속도                      4366 non-null   float64       \n",
      " 20  NO8 DRYER 속도                     4366 non-null   float64       \n",
      " 21  CALENDER BTM ROLL속도              4366 non-null   float64       \n",
      " 22  PM23_평량                          4364 non-null   float64       \n",
      " 23  PM23_릴속도                         1442 non-null   float64       \n",
      "dtypes: datetime64[ns](1), float64(23)\n",
      "memory usage: 818.8 KB\n"
     ]
    }
   ],
   "source": [
    "data=data.drop(['Unnamed: 0'], axis=1)\n",
    "data['datetime']=pd.to_datetime(data['datetime'])\n",
    "data.info(verbose=True)"
   ]
  },
  {
   "cell_type": "code",
   "execution_count": 4,
   "metadata": {},
   "outputs": [
    {
     "name": "stdout",
     "output_type": "stream",
     "text": [
      "Train data : 2022-04-26 00:00:00  ~  2022-06-01 09:00:00 ( 3493 )\n",
      "Test data : 2022-06-01 09:15:00  ~  2022-06-10 11:15:00 ( 873 )\n"
     ]
    }
   ],
   "source": [
    "#train,test split\n",
    "\n",
    "from math import floor\n",
    "def train_test_split_df(df, test_size):\n",
    "  # TODO: test_size(0 < test_size < 1) 비율에 따라 테스트/학습 데이터프레임으로 나누어 반환\n",
    "  div = floor(df.shape[0] * (1 - test_size))\n",
    "  return df.loc[:div], df.loc[div + 1:]\n",
    "\n",
    "train_df, test_df = train_test_split_df(data, 0.20)\n",
    "print('Train data :',train_df['datetime'].min(),' ~ ',train_df['datetime'].max(),'(',len(train_df),')')\n",
    "print('Test data :',test_df['datetime'].min(),' ~ ',test_df['datetime'].max(),'(',len(test_df),')')\n"
   ]
  },
  {
   "cell_type": "code",
   "execution_count": 5,
   "metadata": {},
   "outputs": [
    {
     "name": "stdout",
     "output_type": "stream",
     "text": [
      "<class 'pandas.core.frame.DataFrame'>\n",
      "Int64Index: 3349 entries, 0 to 3492\n",
      "Data columns (total 24 columns):\n",
      " #   Column                           Non-Null Count  Dtype         \n",
      "---  ------                           --------------  -----         \n",
      " 0   datetime                         3349 non-null   datetime64[ns]\n",
      " 1   초지_전력사용량                         3349 non-null   float64       \n",
      " 2   Press_전력사용량                      3349 non-null   float64       \n",
      " 3   Constant_전력사용량                   3349 non-null   float64       \n",
      " 4   Wire_전력사용량                       3349 non-null   float64       \n",
      " 5   AIR_전력사용량                        3349 non-null   float64       \n",
      " 6   Size_전력사용량                       3349 non-null   float64       \n",
      " 7   Calender_전력사용량                   3349 non-null   float64       \n",
      " 8   Drive_전력사용량                      3349 non-null   float64       \n",
      " 9   Pre-Dryer_전력사용량                  3349 non-null   float64       \n",
      " 10  After-Dryer_전력사용량                3349 non-null   float64       \n",
      " 11  (비정상)지절시 운전                      3349 non-null   object        \n",
      " 12  (비정상)카렌더 SHEET BREAK SENSOR TAG  3349 non-null   object        \n",
      " 13  (비정상)PICK-UP VACCUM 파괴 밸브 TAG    3349 non-null   object        \n",
      " 14  TURNING ROLL 보류율                 3349 non-null   float64       \n",
      " 15  사이로 백수 온도                        3349 non-null   float64       \n",
      " 16  TURNING ROLL_WIRE 진공도 토탈         3349 non-null   float64       \n",
      " 17  TURNING ROLL 속도                  3349 non-null   float64       \n",
      " 18  CENTER NO2 ROLL 속도               3349 non-null   float64       \n",
      " 19  1군 DRYER 속도                      3349 non-null   float64       \n",
      " 20  NO8 DRYER 속도                     3349 non-null   float64       \n",
      " 21  CALENDER BTM ROLL속도              3349 non-null   float64       \n",
      " 22  PM23_평량                          3348 non-null   float64       \n",
      " 23  PM23_릴속도                         552 non-null    float64       \n",
      "dtypes: datetime64[ns](1), float64(20), object(3)\n",
      "memory usage: 654.1+ KB\n",
      "Train data : 2022-04-26 00:00:00  ~  2022-06-01 09:00:00 ( 3349 )\n"
     ]
    },
    {
     "name": "stderr",
     "output_type": "stream",
     "text": [
      "C:\\Users\\USER\\AppData\\Local\\Temp\\ipykernel_3108\\4079308839.py:5: SettingWithCopyWarning: \n",
      "A value is trying to be set on a copy of a slice from a DataFrame.\n",
      "Try using .loc[row_indexer,col_indexer] = value instead\n",
      "\n",
      "See the caveats in the documentation: https://pandas.pydata.org/pandas-docs/stable/user_guide/indexing.html#returning-a-view-versus-a-copy\n",
      "  train_df['(비정상)지절시 운전']=train_df['(비정상)지절시 운전'].astype(str)\n",
      "C:\\Users\\USER\\AppData\\Local\\Temp\\ipykernel_3108\\4079308839.py:6: SettingWithCopyWarning: \n",
      "A value is trying to be set on a copy of a slice from a DataFrame.\n",
      "Try using .loc[row_indexer,col_indexer] = value instead\n",
      "\n",
      "See the caveats in the documentation: https://pandas.pydata.org/pandas-docs/stable/user_guide/indexing.html#returning-a-view-versus-a-copy\n",
      "  train_df['(비정상)카렌더 SHEET BREAK SENSOR TAG']=train_df['(비정상)카렌더 SHEET BREAK SENSOR TAG'].astype(str)\n",
      "C:\\Users\\USER\\AppData\\Local\\Temp\\ipykernel_3108\\4079308839.py:7: SettingWithCopyWarning: \n",
      "A value is trying to be set on a copy of a slice from a DataFrame.\n",
      "Try using .loc[row_indexer,col_indexer] = value instead\n",
      "\n",
      "See the caveats in the documentation: https://pandas.pydata.org/pandas-docs/stable/user_guide/indexing.html#returning-a-view-versus-a-copy\n",
      "  train_df['(비정상)PICK-UP VACCUM 파괴 밸브 TAG']=train_df['(비정상)PICK-UP VACCUM 파괴 밸브 TAG'].astype(str)\n"
     ]
    }
   ],
   "source": [
    "#1.  (비정상) column downtime 제거   \n",
    "# '(비정상)지절시 운전' : 1을 제거\n",
    "# '(비정상)카렌더 SHEET BREAK SENSOR TAG' : 1을 제거\n",
    "# '(비정상)PICK-UP VACCUM 파괴 밸브 TAG' : 0을 제거\n",
    "train_df['(비정상)지절시 운전']=train_df['(비정상)지절시 운전'].astype(str)\n",
    "train_df['(비정상)카렌더 SHEET BREAK SENSOR TAG']=train_df['(비정상)카렌더 SHEET BREAK SENSOR TAG'].astype(str)\n",
    "train_df['(비정상)PICK-UP VACCUM 파괴 밸브 TAG']=train_df['(비정상)PICK-UP VACCUM 파괴 밸브 TAG'].astype(str)\n",
    "\n",
    "train_df=train_df[train_df['(비정상)지절시 운전'] == '0.0']   \n",
    "train_df=train_df[train_df['(비정상)카렌더 SHEET BREAK SENSOR TAG'] == '0.0']\n",
    "train_df=train_df[train_df['(비정상)PICK-UP VACCUM 파괴 밸브 TAG'] == '1.0']\n",
    "train_df.info()\n",
    "print('Train data :',train_df['datetime'].min(),' ~ ',train_df['datetime'].max(),'(',len(train_df),')')"
   ]
  },
  {
   "cell_type": "code",
   "execution_count": 6,
   "metadata": {},
   "outputs": [],
   "source": [
    "train_features=train_df[['datetime',\n",
    "'TURNING ROLL 보류율',\n",
    "'사이로 백수 온도',\n",
    "'TURNING ROLL_WIRE 진공도 토탈',\n",
    "'TURNING ROLL 속도',\n",
    " 'CENTER NO2 ROLL 속도',\n",
    " '1군 DRYER 속도',\n",
    " 'NO8 DRYER 속도',\n",
    " 'CALENDER BTM ROLL속도',\n",
    " 'PM23_평량',\n",
    " 'PM23_릴속도']]\n",
    "train_target=train_df['초지_전력사용량']\n",
    "\n",
    "test_features=test_df[['datetime', \n",
    "'TURNING ROLL 보류율',\n",
    "'사이로 백수 온도',\n",
    "'TURNING ROLL_WIRE 진공도 토탈',\n",
    "'TURNING ROLL 속도',\n",
    " 'CENTER NO2 ROLL 속도',\n",
    " '1군 DRYER 속도',\n",
    " 'NO8 DRYER 속도',\n",
    " 'CALENDER BTM ROLL속도',\n",
    " 'PM23_평량',\n",
    " 'PM23_릴속도']]\n",
    "test_target=test_df['초지_전력사용량']"
   ]
  },
  {
   "cell_type": "markdown",
   "metadata": {},
   "source": [
    "pycaret(auto ml)\n"
   ]
  },
  {
   "cell_type": "code",
   "execution_count": 9,
   "metadata": {},
   "outputs": [
    {
     "ename": "ModuleNotFoundError",
     "evalue": "No module named 'pycaret'",
     "output_type": "error",
     "traceback": [
      "\u001b[1;31m---------------------------------------------------------------------------\u001b[0m",
      "\u001b[1;31mModuleNotFoundError\u001b[0m                       Traceback (most recent call last)",
      "\u001b[1;32mc:\\Users\\USER\\Documents\\GitHub\\Algorithms\\baselined\\3. Auto ML\\catboost.ipynb Cell 7'\u001b[0m in \u001b[0;36m<cell line: 1>\u001b[1;34m()\u001b[0m\n\u001b[1;32m----> <a href='vscode-notebook-cell:/c%3A/Users/USER/Documents/GitHub/Algorithms/baselined/3.%20Auto%20ML/catboost.ipynb#ch0000015?line=0'>1</a>\u001b[0m \u001b[39mfrom\u001b[39;00m \u001b[39mpycaret\u001b[39;00m\u001b[39m.\u001b[39;00m\u001b[39mregression\u001b[39;00m \u001b[39mimport\u001b[39;00m \u001b[39m*\u001b[39m\n",
      "\u001b[1;31mModuleNotFoundError\u001b[0m: No module named 'pycaret'"
     ]
    }
   ],
   "source": [
    "from pycaret.regression import *"
   ]
  },
  {
   "cell_type": "markdown",
   "metadata": {},
   "source": [
    "catboost"
   ]
  },
  {
   "cell_type": "code",
   "execution_count": 7,
   "metadata": {},
   "outputs": [
    {
     "name": "stdout",
     "output_type": "stream",
     "text": [
      "0:\tlearn: 121.0317286\ttotal: 151ms\tremaining: 151ms\n",
      "1:\tlearn: 120.1401552\ttotal: 152ms\tremaining: 0us\n"
     ]
    }
   ],
   "source": [
    "import catboost\n",
    "# Initialize CatBoostRegressor\n",
    "model = catboost.CatBoostRegressor(iterations=2,\n",
    "                          learning_rate=0.1,\n",
    "                          depth=2)\n",
    "# Fit model\n",
    "model.fit(train_features, train_target)\n",
    "# Get predictions\n",
    "preds = model.predict(test_features)"
   ]
  },
  {
   "cell_type": "code",
   "execution_count": null,
   "metadata": {},
   "outputs": [],
   "source": [
    "import optuna\n",
    "\n",
    "def objective(trial):\n",
    "    X_train, X_val, y_train, y_val = train_test_split(X, y, test_size = 0.2)\n",
    "\n",
    "    param = {\n",
    "        \"objective\": trial.suggest_categorical(\"objective\", [\"Logloss\", \"CrossEntropy\"]),\n",
    "        'learning_rate' : trial.suggest_loguniform('learning_rate', 0.001, 0.3),\n",
    "        \"colsample_bylevel\": trial.suggest_float(\"colsample_bylevel\", 0.01, 0.1),\n",
    "        \"max_depth\": trial.suggest_int(\"max_depth\", 1, 15),\n",
    "        \"boosting_type\": trial.suggest_categorical(\"boosting_type\", [\"Ordered\", \"Plain\"]),\n",
    "        \"bootstrap_type\": trial.suggest_categorical(\n",
    "            \"bootstrap_type\", [\"Bayesian\", \"Bernoulli\", \"MVS\"]),\n",
    "    }\n",
    "    \n",
    "\n",
    "    if param[\"bootstrap_type\"] == \"Bayesian\":\n",
    "        param[\"bagging_temperature\"] = trial.suggest_float(\"bagging_temperature\", 0, 10)\n",
    "    elif param[\"bootstrap_type\"] == \"Bernoulli\":\n",
    "        param[\"subsample\"] = trial.suggest_uniform(\"subsample\", 0.1, 1)\n",
    "\n",
    "    gbm = catboost.CatBoostClassifier(**param, iterations = 10000)\n",
    "\n",
    "    gbm.fit(X_train, y_train, eval_set = [(X_val, y_val)], verbose = 0, early_stopping_rounds = 100)\n",
    "\n",
    "    preds = gbm.predict(X_val)\n",
    "    pred_labels = np.rint(preds)\n",
    "    accuracy = accuracy_score(y_val, pred_labels)\n",
    "    \n",
    "    return accuracy\n",
    "\n",
    "study = optuna.create_study(direction = \"maximize\")\n",
    "study.optimize(objective, n_trials = 200, show_progress_bar = True)"
   ]
  },
  {
   "cell_type": "code",
   "execution_count": 12,
   "metadata": {},
   "outputs": [
    {
     "data": {
      "text/plain": [
       "873"
      ]
     },
     "execution_count": 12,
     "metadata": {},
     "output_type": "execute_result"
    }
   ],
   "source": [
    "len(preds)\n"
   ]
  },
  {
   "cell_type": "markdown",
   "metadata": {},
   "source": [
    "hyperparameter tunning(optuna)"
   ]
  },
  {
   "cell_type": "code",
   "execution_count": null,
   "metadata": {},
   "outputs": [],
   "source": [
    "import optuna\n",
    "from optuna import Trial, visualization\n",
    "from optuna.samplers import TPESampler\n",
    "\n",
    "from sklearn.metrics import mean_absolute_error"
   ]
  },
  {
   "cell_type": "code",
   "execution_count": null,
   "metadata": {},
   "outputs": [],
   "source": []
  },
  {
   "cell_type": "code",
   "execution_count": null,
   "metadata": {},
   "outputs": [],
   "source": []
  },
  {
   "cell_type": "code",
   "execution_count": null,
   "metadata": {},
   "outputs": [],
   "source": []
  },
  {
   "cell_type": "code",
   "execution_count": null,
   "metadata": {},
   "outputs": [],
   "source": []
  }
 ],
 "metadata": {
  "kernelspec": {
   "display_name": "Python 3.9.7 64-bit",
   "language": "python",
   "name": "python3"
  },
  "language_info": {
   "codemirror_mode": {
    "name": "ipython",
    "version": 3
   },
   "file_extension": ".py",
   "mimetype": "text/x-python",
   "name": "python",
   "nbconvert_exporter": "python",
   "pygments_lexer": "ipython3",
   "version": "3.9.7"
  },
  "orig_nbformat": 4,
  "vscode": {
   "interpreter": {
    "hash": "1d5c1156327dacead463cc502c55ebae8ce9c8c01979cf154173ff808e75bf55"
   }
  }
 },
 "nbformat": 4,
 "nbformat_minor": 2
}
