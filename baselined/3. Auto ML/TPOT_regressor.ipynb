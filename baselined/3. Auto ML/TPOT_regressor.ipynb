{
 "cells": [
  {
   "cell_type": "code",
   "execution_count": 19,
   "metadata": {},
   "outputs": [],
   "source": [
    "# pandas and numpy for data manipulation\n",
    "import pandas as pd\n",
    "import numpy as np\n",
    "\n",
    "# Import the tpot regressor\n",
    "from tpot import TPOTRegressor"
   ]
  },
  {
   "cell_type": "markdown",
   "metadata": {},
   "source": [
    "### SAMPLE Dataset"
   ]
  },
  {
   "cell_type": "code",
   "execution_count": 94,
   "metadata": {},
   "outputs": [
    {
     "name": "stdout",
     "output_type": "stream",
     "text": [
      "Training features shape:  (6622, 82)\n",
      "Testing features shape:   (2839, 82)\n"
     ]
    }
   ],
   "source": [
    "# Read in features from GitHub\n",
    "train_features = pd.read_csv('https://raw.githubusercontent.com/WillKoehrsen/machine-learning-project-walkthrough/master/data/X_train.csv')\n",
    "test_features = pd.read_csv('https://raw.githubusercontent.com/WillKoehrsen/machine-learning-project-walkthrough/master/data/X_test.csv')\n",
    "\n",
    "# Read in labels from GitHub\n",
    "train_labels = pd.read_csv('https://raw.githubusercontent.com/WillKoehrsen/machine-learning-project-walkthrough/master/data/Y_train.csv')\n",
    "test_labels = pd.read_csv('https://raw.githubusercontent.com/WillKoehrsen/machine-learning-project-walkthrough/master/data/Y_test.csv')\n",
    "\n",
    "print('Training features shape: ', train_features.shape)\n",
    "print('Testing features shape:  ', test_features.shape)"
   ]
  },
  {
   "cell_type": "code",
   "execution_count": 95,
   "metadata": {},
   "outputs": [
    {
     "data": {
      "text/html": [
       "<div>\n",
       "<style scoped>\n",
       "    .dataframe tbody tr th:only-of-type {\n",
       "        vertical-align: middle;\n",
       "    }\n",
       "\n",
       "    .dataframe tbody tr th {\n",
       "        vertical-align: top;\n",
       "    }\n",
       "\n",
       "    .dataframe thead th {\n",
       "        text-align: right;\n",
       "    }\n",
       "</style>\n",
       "<table border=\"1\" class=\"dataframe\">\n",
       "  <thead>\n",
       "    <tr style=\"text-align: right;\">\n",
       "      <th></th>\n",
       "      <th>Order</th>\n",
       "      <th>Property Id</th>\n",
       "      <th>DOF Gross Floor Area</th>\n",
       "      <th>Largest Property Use Type - Gross Floor Area (ft²)</th>\n",
       "      <th>Year Built</th>\n",
       "      <th>Number of Buildings - Self-reported</th>\n",
       "      <th>Occupancy</th>\n",
       "      <th>Site EUI (kBtu/ft²)</th>\n",
       "      <th>Weather Normalized Site EUI (kBtu/ft²)</th>\n",
       "      <th>Weather Normalized Site Electricity Intensity (kWh/ft²)</th>\n",
       "      <th>...</th>\n",
       "      <th>Largest Property Use Type_Restaurant</th>\n",
       "      <th>Largest Property Use Type_Retail Store</th>\n",
       "      <th>Largest Property Use Type_Self-Storage Facility</th>\n",
       "      <th>Largest Property Use Type_Senior Care Community</th>\n",
       "      <th>Largest Property Use Type_Social/Meeting Hall</th>\n",
       "      <th>Largest Property Use Type_Strip Mall</th>\n",
       "      <th>Largest Property Use Type_Supermarket/Grocery Store</th>\n",
       "      <th>Largest Property Use Type_Urgent Care/Clinic/Other Outpatient</th>\n",
       "      <th>Largest Property Use Type_Wholesale Club/Supercenter</th>\n",
       "      <th>Largest Property Use Type_Worship Facility</th>\n",
       "    </tr>\n",
       "  </thead>\n",
       "  <tbody>\n",
       "    <tr>\n",
       "      <th>0</th>\n",
       "      <td>13276</td>\n",
       "      <td>5849784</td>\n",
       "      <td>90300.0</td>\n",
       "      <td>77300.0</td>\n",
       "      <td>1950</td>\n",
       "      <td>1</td>\n",
       "      <td>100</td>\n",
       "      <td>126.0</td>\n",
       "      <td>136.8</td>\n",
       "      <td>5.2</td>\n",
       "      <td>...</td>\n",
       "      <td>0</td>\n",
       "      <td>0</td>\n",
       "      <td>0</td>\n",
       "      <td>0</td>\n",
       "      <td>0</td>\n",
       "      <td>0</td>\n",
       "      <td>0</td>\n",
       "      <td>0</td>\n",
       "      <td>0</td>\n",
       "      <td>0</td>\n",
       "    </tr>\n",
       "    <tr>\n",
       "      <th>1</th>\n",
       "      <td>7377</td>\n",
       "      <td>4398442</td>\n",
       "      <td>52000.0</td>\n",
       "      <td>52000.0</td>\n",
       "      <td>1926</td>\n",
       "      <td>1</td>\n",
       "      <td>100</td>\n",
       "      <td>95.4</td>\n",
       "      <td>102.0</td>\n",
       "      <td>4.7</td>\n",
       "      <td>...</td>\n",
       "      <td>0</td>\n",
       "      <td>0</td>\n",
       "      <td>0</td>\n",
       "      <td>0</td>\n",
       "      <td>0</td>\n",
       "      <td>0</td>\n",
       "      <td>0</td>\n",
       "      <td>0</td>\n",
       "      <td>0</td>\n",
       "      <td>0</td>\n",
       "    </tr>\n",
       "    <tr>\n",
       "      <th>2</th>\n",
       "      <td>9479</td>\n",
       "      <td>4665374</td>\n",
       "      <td>104700.0</td>\n",
       "      <td>105000.0</td>\n",
       "      <td>1954</td>\n",
       "      <td>1</td>\n",
       "      <td>100</td>\n",
       "      <td>40.4</td>\n",
       "      <td>40.0</td>\n",
       "      <td>3.8</td>\n",
       "      <td>...</td>\n",
       "      <td>0</td>\n",
       "      <td>0</td>\n",
       "      <td>0</td>\n",
       "      <td>0</td>\n",
       "      <td>0</td>\n",
       "      <td>0</td>\n",
       "      <td>0</td>\n",
       "      <td>0</td>\n",
       "      <td>0</td>\n",
       "      <td>0</td>\n",
       "    </tr>\n",
       "    <tr>\n",
       "      <th>3</th>\n",
       "      <td>14774</td>\n",
       "      <td>3393340</td>\n",
       "      <td>129333.0</td>\n",
       "      <td>129333.0</td>\n",
       "      <td>1992</td>\n",
       "      <td>1</td>\n",
       "      <td>100</td>\n",
       "      <td>157.1</td>\n",
       "      <td>163.1</td>\n",
       "      <td>16.9</td>\n",
       "      <td>...</td>\n",
       "      <td>0</td>\n",
       "      <td>0</td>\n",
       "      <td>0</td>\n",
       "      <td>1</td>\n",
       "      <td>0</td>\n",
       "      <td>0</td>\n",
       "      <td>0</td>\n",
       "      <td>0</td>\n",
       "      <td>0</td>\n",
       "      <td>0</td>\n",
       "    </tr>\n",
       "    <tr>\n",
       "      <th>4</th>\n",
       "      <td>3286</td>\n",
       "      <td>2704325</td>\n",
       "      <td>109896.0</td>\n",
       "      <td>116041.0</td>\n",
       "      <td>1927</td>\n",
       "      <td>1</td>\n",
       "      <td>100</td>\n",
       "      <td>62.3</td>\n",
       "      <td>68.2</td>\n",
       "      <td>3.5</td>\n",
       "      <td>...</td>\n",
       "      <td>0</td>\n",
       "      <td>0</td>\n",
       "      <td>0</td>\n",
       "      <td>0</td>\n",
       "      <td>0</td>\n",
       "      <td>0</td>\n",
       "      <td>0</td>\n",
       "      <td>0</td>\n",
       "      <td>0</td>\n",
       "      <td>0</td>\n",
       "    </tr>\n",
       "    <tr>\n",
       "      <th>...</th>\n",
       "      <td>...</td>\n",
       "      <td>...</td>\n",
       "      <td>...</td>\n",
       "      <td>...</td>\n",
       "      <td>...</td>\n",
       "      <td>...</td>\n",
       "      <td>...</td>\n",
       "      <td>...</td>\n",
       "      <td>...</td>\n",
       "      <td>...</td>\n",
       "      <td>...</td>\n",
       "      <td>...</td>\n",
       "      <td>...</td>\n",
       "      <td>...</td>\n",
       "      <td>...</td>\n",
       "      <td>...</td>\n",
       "      <td>...</td>\n",
       "      <td>...</td>\n",
       "      <td>...</td>\n",
       "      <td>...</td>\n",
       "      <td>...</td>\n",
       "    </tr>\n",
       "    <tr>\n",
       "      <th>6617</th>\n",
       "      <td>8818</td>\n",
       "      <td>4044737</td>\n",
       "      <td>55400.0</td>\n",
       "      <td>62000.0</td>\n",
       "      <td>1958</td>\n",
       "      <td>1</td>\n",
       "      <td>90</td>\n",
       "      <td>72.3</td>\n",
       "      <td>NaN</td>\n",
       "      <td>2.9</td>\n",
       "      <td>...</td>\n",
       "      <td>0</td>\n",
       "      <td>0</td>\n",
       "      <td>0</td>\n",
       "      <td>0</td>\n",
       "      <td>0</td>\n",
       "      <td>0</td>\n",
       "      <td>0</td>\n",
       "      <td>0</td>\n",
       "      <td>0</td>\n",
       "      <td>0</td>\n",
       "    </tr>\n",
       "    <tr>\n",
       "      <th>6618</th>\n",
       "      <td>8027</td>\n",
       "      <td>2609697</td>\n",
       "      <td>106500.0</td>\n",
       "      <td>106500.0</td>\n",
       "      <td>1928</td>\n",
       "      <td>1</td>\n",
       "      <td>100</td>\n",
       "      <td>73.7</td>\n",
       "      <td>80.4</td>\n",
       "      <td>3.7</td>\n",
       "      <td>...</td>\n",
       "      <td>0</td>\n",
       "      <td>0</td>\n",
       "      <td>0</td>\n",
       "      <td>0</td>\n",
       "      <td>0</td>\n",
       "      <td>0</td>\n",
       "      <td>0</td>\n",
       "      <td>0</td>\n",
       "      <td>0</td>\n",
       "      <td>0</td>\n",
       "    </tr>\n",
       "    <tr>\n",
       "      <th>6619</th>\n",
       "      <td>8343</td>\n",
       "      <td>3119428</td>\n",
       "      <td>112339.0</td>\n",
       "      <td>123573.0</td>\n",
       "      <td>1962</td>\n",
       "      <td>1</td>\n",
       "      <td>100</td>\n",
       "      <td>88.0</td>\n",
       "      <td>91.8</td>\n",
       "      <td>5.6</td>\n",
       "      <td>...</td>\n",
       "      <td>0</td>\n",
       "      <td>0</td>\n",
       "      <td>0</td>\n",
       "      <td>0</td>\n",
       "      <td>0</td>\n",
       "      <td>0</td>\n",
       "      <td>0</td>\n",
       "      <td>0</td>\n",
       "      <td>0</td>\n",
       "      <td>0</td>\n",
       "    </tr>\n",
       "    <tr>\n",
       "      <th>6620</th>\n",
       "      <td>1574</td>\n",
       "      <td>5039588</td>\n",
       "      <td>100244.0</td>\n",
       "      <td>109885.0</td>\n",
       "      <td>1927</td>\n",
       "      <td>1</td>\n",
       "      <td>50</td>\n",
       "      <td>26.6</td>\n",
       "      <td>26.6</td>\n",
       "      <td>7.8</td>\n",
       "      <td>...</td>\n",
       "      <td>0</td>\n",
       "      <td>0</td>\n",
       "      <td>0</td>\n",
       "      <td>0</td>\n",
       "      <td>0</td>\n",
       "      <td>0</td>\n",
       "      <td>0</td>\n",
       "      <td>0</td>\n",
       "      <td>0</td>\n",
       "      <td>0</td>\n",
       "    </tr>\n",
       "    <tr>\n",
       "      <th>6621</th>\n",
       "      <td>11398</td>\n",
       "      <td>4406995</td>\n",
       "      <td>52700.0</td>\n",
       "      <td>52682.0</td>\n",
       "      <td>1936</td>\n",
       "      <td>1</td>\n",
       "      <td>100</td>\n",
       "      <td>80.2</td>\n",
       "      <td>86.4</td>\n",
       "      <td>3.0</td>\n",
       "      <td>...</td>\n",
       "      <td>0</td>\n",
       "      <td>0</td>\n",
       "      <td>0</td>\n",
       "      <td>0</td>\n",
       "      <td>0</td>\n",
       "      <td>0</td>\n",
       "      <td>0</td>\n",
       "      <td>0</td>\n",
       "      <td>0</td>\n",
       "      <td>0</td>\n",
       "    </tr>\n",
       "  </tbody>\n",
       "</table>\n",
       "<p>6622 rows × 82 columns</p>\n",
       "</div>"
      ],
      "text/plain": [
       "      Order  Property Id  DOF Gross Floor Area  \\\n",
       "0     13276      5849784               90300.0   \n",
       "1      7377      4398442               52000.0   \n",
       "2      9479      4665374              104700.0   \n",
       "3     14774      3393340              129333.0   \n",
       "4      3286      2704325              109896.0   \n",
       "...     ...          ...                   ...   \n",
       "6617   8818      4044737               55400.0   \n",
       "6618   8027      2609697              106500.0   \n",
       "6619   8343      3119428              112339.0   \n",
       "6620   1574      5039588              100244.0   \n",
       "6621  11398      4406995               52700.0   \n",
       "\n",
       "      Largest Property Use Type - Gross Floor Area (ft²)  Year Built  \\\n",
       "0                                               77300.0         1950   \n",
       "1                                               52000.0         1926   \n",
       "2                                              105000.0         1954   \n",
       "3                                              129333.0         1992   \n",
       "4                                              116041.0         1927   \n",
       "...                                                 ...          ...   \n",
       "6617                                            62000.0         1958   \n",
       "6618                                           106500.0         1928   \n",
       "6619                                           123573.0         1962   \n",
       "6620                                           109885.0         1927   \n",
       "6621                                            52682.0         1936   \n",
       "\n",
       "      Number of Buildings - Self-reported  Occupancy  Site EUI (kBtu/ft²)  \\\n",
       "0                                       1        100                126.0   \n",
       "1                                       1        100                 95.4   \n",
       "2                                       1        100                 40.4   \n",
       "3                                       1        100                157.1   \n",
       "4                                       1        100                 62.3   \n",
       "...                                   ...        ...                  ...   \n",
       "6617                                    1         90                 72.3   \n",
       "6618                                    1        100                 73.7   \n",
       "6619                                    1        100                 88.0   \n",
       "6620                                    1         50                 26.6   \n",
       "6621                                    1        100                 80.2   \n",
       "\n",
       "      Weather Normalized Site EUI (kBtu/ft²)  \\\n",
       "0                                      136.8   \n",
       "1                                      102.0   \n",
       "2                                       40.0   \n",
       "3                                      163.1   \n",
       "4                                       68.2   \n",
       "...                                      ...   \n",
       "6617                                     NaN   \n",
       "6618                                    80.4   \n",
       "6619                                    91.8   \n",
       "6620                                    26.6   \n",
       "6621                                    86.4   \n",
       "\n",
       "      Weather Normalized Site Electricity Intensity (kWh/ft²)  ...  \\\n",
       "0                                                   5.2        ...   \n",
       "1                                                   4.7        ...   \n",
       "2                                                   3.8        ...   \n",
       "3                                                  16.9        ...   \n",
       "4                                                   3.5        ...   \n",
       "...                                                 ...        ...   \n",
       "6617                                                2.9        ...   \n",
       "6618                                                3.7        ...   \n",
       "6619                                                5.6        ...   \n",
       "6620                                                7.8        ...   \n",
       "6621                                                3.0        ...   \n",
       "\n",
       "      Largest Property Use Type_Restaurant  \\\n",
       "0                                        0   \n",
       "1                                        0   \n",
       "2                                        0   \n",
       "3                                        0   \n",
       "4                                        0   \n",
       "...                                    ...   \n",
       "6617                                     0   \n",
       "6618                                     0   \n",
       "6619                                     0   \n",
       "6620                                     0   \n",
       "6621                                     0   \n",
       "\n",
       "      Largest Property Use Type_Retail Store  \\\n",
       "0                                          0   \n",
       "1                                          0   \n",
       "2                                          0   \n",
       "3                                          0   \n",
       "4                                          0   \n",
       "...                                      ...   \n",
       "6617                                       0   \n",
       "6618                                       0   \n",
       "6619                                       0   \n",
       "6620                                       0   \n",
       "6621                                       0   \n",
       "\n",
       "      Largest Property Use Type_Self-Storage Facility  \\\n",
       "0                                                   0   \n",
       "1                                                   0   \n",
       "2                                                   0   \n",
       "3                                                   0   \n",
       "4                                                   0   \n",
       "...                                               ...   \n",
       "6617                                                0   \n",
       "6618                                                0   \n",
       "6619                                                0   \n",
       "6620                                                0   \n",
       "6621                                                0   \n",
       "\n",
       "      Largest Property Use Type_Senior Care Community  \\\n",
       "0                                                   0   \n",
       "1                                                   0   \n",
       "2                                                   0   \n",
       "3                                                   1   \n",
       "4                                                   0   \n",
       "...                                               ...   \n",
       "6617                                                0   \n",
       "6618                                                0   \n",
       "6619                                                0   \n",
       "6620                                                0   \n",
       "6621                                                0   \n",
       "\n",
       "      Largest Property Use Type_Social/Meeting Hall  \\\n",
       "0                                                 0   \n",
       "1                                                 0   \n",
       "2                                                 0   \n",
       "3                                                 0   \n",
       "4                                                 0   \n",
       "...                                             ...   \n",
       "6617                                              0   \n",
       "6618                                              0   \n",
       "6619                                              0   \n",
       "6620                                              0   \n",
       "6621                                              0   \n",
       "\n",
       "      Largest Property Use Type_Strip Mall  \\\n",
       "0                                        0   \n",
       "1                                        0   \n",
       "2                                        0   \n",
       "3                                        0   \n",
       "4                                        0   \n",
       "...                                    ...   \n",
       "6617                                     0   \n",
       "6618                                     0   \n",
       "6619                                     0   \n",
       "6620                                     0   \n",
       "6621                                     0   \n",
       "\n",
       "      Largest Property Use Type_Supermarket/Grocery Store  \\\n",
       "0                                                     0     \n",
       "1                                                     0     \n",
       "2                                                     0     \n",
       "3                                                     0     \n",
       "4                                                     0     \n",
       "...                                                 ...     \n",
       "6617                                                  0     \n",
       "6618                                                  0     \n",
       "6619                                                  0     \n",
       "6620                                                  0     \n",
       "6621                                                  0     \n",
       "\n",
       "      Largest Property Use Type_Urgent Care/Clinic/Other Outpatient  \\\n",
       "0                                                     0               \n",
       "1                                                     0               \n",
       "2                                                     0               \n",
       "3                                                     0               \n",
       "4                                                     0               \n",
       "...                                                 ...               \n",
       "6617                                                  0               \n",
       "6618                                                  0               \n",
       "6619                                                  0               \n",
       "6620                                                  0               \n",
       "6621                                                  0               \n",
       "\n",
       "      Largest Property Use Type_Wholesale Club/Supercenter  \\\n",
       "0                                                     0      \n",
       "1                                                     0      \n",
       "2                                                     0      \n",
       "3                                                     0      \n",
       "4                                                     0      \n",
       "...                                                 ...      \n",
       "6617                                                  0      \n",
       "6618                                                  0      \n",
       "6619                                                  0      \n",
       "6620                                                  0      \n",
       "6621                                                  0      \n",
       "\n",
       "      Largest Property Use Type_Worship Facility  \n",
       "0                                              0  \n",
       "1                                              0  \n",
       "2                                              0  \n",
       "3                                              0  \n",
       "4                                              0  \n",
       "...                                          ...  \n",
       "6617                                           0  \n",
       "6618                                           0  \n",
       "6619                                           0  \n",
       "6620                                           0  \n",
       "6621                                           0  \n",
       "\n",
       "[6622 rows x 82 columns]"
      ]
     },
     "execution_count": 95,
     "metadata": {},
     "output_type": "execute_result"
    }
   ],
   "source": [
    "train_features"
   ]
  },
  {
   "cell_type": "code",
   "execution_count": 96,
   "metadata": {},
   "outputs": [
    {
     "data": {
      "text/html": [
       "<div>\n",
       "<style scoped>\n",
       "    .dataframe tbody tr th:only-of-type {\n",
       "        vertical-align: middle;\n",
       "    }\n",
       "\n",
       "    .dataframe tbody tr th {\n",
       "        vertical-align: top;\n",
       "    }\n",
       "\n",
       "    .dataframe thead th {\n",
       "        text-align: right;\n",
       "    }\n",
       "</style>\n",
       "<table border=\"1\" class=\"dataframe\">\n",
       "  <thead>\n",
       "    <tr style=\"text-align: right;\">\n",
       "      <th></th>\n",
       "      <th>score</th>\n",
       "    </tr>\n",
       "  </thead>\n",
       "  <tbody>\n",
       "    <tr>\n",
       "      <th>0</th>\n",
       "      <td>16.0</td>\n",
       "    </tr>\n",
       "    <tr>\n",
       "      <th>1</th>\n",
       "      <td>53.0</td>\n",
       "    </tr>\n",
       "    <tr>\n",
       "      <th>2</th>\n",
       "      <td>99.0</td>\n",
       "    </tr>\n",
       "    <tr>\n",
       "      <th>3</th>\n",
       "      <td>35.0</td>\n",
       "    </tr>\n",
       "    <tr>\n",
       "      <th>4</th>\n",
       "      <td>91.0</td>\n",
       "    </tr>\n",
       "    <tr>\n",
       "      <th>...</th>\n",
       "      <td>...</td>\n",
       "    </tr>\n",
       "    <tr>\n",
       "      <th>6617</th>\n",
       "      <td>82.0</td>\n",
       "    </tr>\n",
       "    <tr>\n",
       "      <th>6618</th>\n",
       "      <td>88.0</td>\n",
       "    </tr>\n",
       "    <tr>\n",
       "      <th>6619</th>\n",
       "      <td>41.0</td>\n",
       "    </tr>\n",
       "    <tr>\n",
       "      <th>6620</th>\n",
       "      <td>97.0</td>\n",
       "    </tr>\n",
       "    <tr>\n",
       "      <th>6621</th>\n",
       "      <td>67.0</td>\n",
       "    </tr>\n",
       "  </tbody>\n",
       "</table>\n",
       "<p>6622 rows × 1 columns</p>\n",
       "</div>"
      ],
      "text/plain": [
       "      score\n",
       "0      16.0\n",
       "1      53.0\n",
       "2      99.0\n",
       "3      35.0\n",
       "4      91.0\n",
       "...     ...\n",
       "6617   82.0\n",
       "6618   88.0\n",
       "6619   41.0\n",
       "6620   97.0\n",
       "6621   67.0\n",
       "\n",
       "[6622 rows x 1 columns]"
      ]
     },
     "execution_count": 96,
     "metadata": {},
     "output_type": "execute_result"
    }
   ],
   "source": [
    "train_labels"
   ]
  },
  {
   "cell_type": "code",
   "execution_count": 97,
   "metadata": {},
   "outputs": [
    {
     "data": {
      "text/plain": [
       "array([[1.327600e+04, 5.849784e+06, 9.030000e+04, ..., 0.000000e+00,\n",
       "        0.000000e+00, 0.000000e+00],\n",
       "       [7.377000e+03, 4.398442e+06, 5.200000e+04, ..., 0.000000e+00,\n",
       "        0.000000e+00, 0.000000e+00],\n",
       "       [9.479000e+03, 4.665374e+06, 1.047000e+05, ..., 0.000000e+00,\n",
       "        0.000000e+00, 0.000000e+00],\n",
       "       ...,\n",
       "       [8.343000e+03, 3.119428e+06, 1.123390e+05, ..., 0.000000e+00,\n",
       "        0.000000e+00, 0.000000e+00],\n",
       "       [1.574000e+03, 5.039588e+06, 1.002440e+05, ..., 0.000000e+00,\n",
       "        0.000000e+00, 0.000000e+00],\n",
       "       [1.139800e+04, 4.406995e+06, 5.270000e+04, ..., 0.000000e+00,\n",
       "        0.000000e+00, 0.000000e+00]])"
      ]
     },
     "execution_count": 97,
     "metadata": {},
     "output_type": "execute_result"
    }
   ],
   "source": [
    "# Convert to numpy arrays\n",
    "training_features = np.array(train_features)\n",
    "testing_features = np.array(test_features)\n",
    "training_features"
   ]
  },
  {
   "cell_type": "code",
   "execution_count": 98,
   "metadata": {},
   "outputs": [
    {
     "data": {
      "text/plain": [
       "array([16., 53., 99., ..., 41., 97., 67.])"
      ]
     },
     "execution_count": 98,
     "metadata": {},
     "output_type": "execute_result"
    }
   ],
   "source": [
    "# Sklearn wants the labels as one-dimensional vectors\n",
    "training_targets = np.array(train_labels).reshape((-1,))\n",
    "testing_targets = np.array(test_labels).reshape((-1,))\n",
    "training_targets"
   ]
  },
  {
   "cell_type": "code",
   "execution_count": 7,
   "metadata": {},
   "outputs": [],
   "source": [
    "# Create a tpot object with a few parameters\n",
    "tpot = TPOTRegressor(scoring = 'neg_mean_absolute_error', \n",
    "                    max_time_mins = 480, \n",
    "                    n_jobs = -1,\n",
    "                    verbosity = 2,\n",
    "                    cv = 5)"
   ]
  },
  {
   "cell_type": "code",
   "execution_count": 8,
   "metadata": {},
   "outputs": [
    {
     "name": "stdout",
     "output_type": "stream",
     "text": [
      "Imputing missing values in feature set\n"
     ]
    },
    {
     "data": {
      "application/vnd.jupyter.widget-view+json": {
       "model_id": "53b58caa6d9a46658097e7bbf4533986",
       "version_major": 2,
       "version_minor": 0
      },
      "text/plain": [
       "Optimization Progress:   0%|          | 0/100 [00:00<?, ?pipeline/s]"
      ]
     },
     "metadata": {},
     "output_type": "display_data"
    },
    {
     "name": "stdout",
     "output_type": "stream",
     "text": [
      "\n",
      "Generation 1 - Current best internal CV score: -8.73740849986034\n",
      "\n",
      "Generation 2 - Current best internal CV score: -8.716362231502213\n",
      "\n",
      "Generation 3 - Current best internal CV score: -8.712769258818426\n",
      "\n",
      "Generation 4 - Current best internal CV score: -8.68206871672659\n",
      "\n",
      "Generation 5 - Current best internal CV score: -8.68206871672659\n",
      "\n",
      "Generation 6 - Current best internal CV score: -8.661899198288152\n",
      "\n",
      "Generation 7 - Current best internal CV score: -8.570170336711106\n",
      "\n",
      "Generation 8 - Current best internal CV score: -8.511745611530241\n",
      "\n",
      "Generation 9 - Current best internal CV score: -8.506541523567538\n",
      "\n",
      "Generation 10 - Current best internal CV score: -8.506541523567538\n",
      "\n",
      "Generation 11 - Current best internal CV score: -8.506541523567538\n",
      "\n",
      "Generation 12 - Current best internal CV score: -8.488490709562402\n",
      "\n",
      "Generation 13 - Current best internal CV score: -8.4860772465687\n",
      "\n",
      "Generation 14 - Current best internal CV score: -8.4860772465687\n",
      "\n",
      "Generation 15 - Current best internal CV score: -8.472944660189405\n",
      "\n",
      "Generation 16 - Current best internal CV score: -8.442930311431567\n",
      "\n",
      "Generation 17 - Current best internal CV score: -8.442930311431567\n",
      "\n",
      "Generation 18 - Current best internal CV score: -8.43537515740111\n",
      "\n",
      "Generation 19 - Current best internal CV score: -8.432851219483538\n",
      "\n",
      "Generation 20 - Current best internal CV score: -8.426871799370728\n",
      "\n",
      "Generation 21 - Current best internal CV score: -8.422583889341947\n",
      "\n",
      "Generation 22 - Current best internal CV score: -8.422583889341947\n",
      "\n",
      "Generation 23 - Current best internal CV score: -8.415103888641152\n",
      "\n",
      "Generation 24 - Current best internal CV score: -8.415103888641152\n",
      "\n",
      "Generation 25 - Current best internal CV score: -8.415103888641152\n",
      "\n",
      "Generation 26 - Current best internal CV score: -8.411404542783874\n",
      "\n",
      "Generation 27 - Current best internal CV score: -8.411404542783874\n",
      "\n",
      "Generation 28 - Current best internal CV score: -8.399087782321011\n",
      "\n",
      "Generation 29 - Current best internal CV score: -8.399087782321011\n",
      "\n",
      "Generation 30 - Current best internal CV score: -8.374024929929377\n",
      "\n",
      "480.75 minutes have elapsed. TPOT will close down.\n",
      "TPOT closed during evaluation in one generation.\n",
      "WARNING: TPOT may not provide a good pipeline if TPOT is stopped/interrupted in a early generation.\n",
      "\n",
      "\n",
      "TPOT closed prematurely. Will use the current best pipeline.\n",
      "\n",
      "Best pipeline: GradientBoostingRegressor(SelectPercentile(LassoLarsCV(LinearSVR(LassoLarsCV(ExtraTreesRegressor(ElasticNetCV(RobustScaler(input_matrix), l1_ratio=0.75, tol=1e-05), bootstrap=False, max_features=0.25, min_samples_leaf=20, min_samples_split=14, n_estimators=100), normalize=True), C=5.0, dual=True, epsilon=1.0, loss=squared_epsilon_insensitive, tol=0.01), normalize=True), percentile=70), alpha=0.85, learning_rate=0.1, loss=huber, max_depth=5, max_features=0.9500000000000001, min_samples_leaf=13, min_samples_split=19, n_estimators=100, subsample=0.7500000000000001)\n"
     ]
    },
    {
     "data": {
      "text/html": [
       "<style>#sk-container-id-1 {color: black;background-color: white;}#sk-container-id-1 pre{padding: 0;}#sk-container-id-1 div.sk-toggleable {background-color: white;}#sk-container-id-1 label.sk-toggleable__label {cursor: pointer;display: block;width: 100%;margin-bottom: 0;padding: 0.3em;box-sizing: border-box;text-align: center;}#sk-container-id-1 label.sk-toggleable__label-arrow:before {content: \"▸\";float: left;margin-right: 0.25em;color: #696969;}#sk-container-id-1 label.sk-toggleable__label-arrow:hover:before {color: black;}#sk-container-id-1 div.sk-estimator:hover label.sk-toggleable__label-arrow:before {color: black;}#sk-container-id-1 div.sk-toggleable__content {max-height: 0;max-width: 0;overflow: hidden;text-align: left;background-color: #f0f8ff;}#sk-container-id-1 div.sk-toggleable__content pre {margin: 0.2em;color: black;border-radius: 0.25em;background-color: #f0f8ff;}#sk-container-id-1 input.sk-toggleable__control:checked~div.sk-toggleable__content {max-height: 200px;max-width: 100%;overflow: auto;}#sk-container-id-1 input.sk-toggleable__control:checked~label.sk-toggleable__label-arrow:before {content: \"▾\";}#sk-container-id-1 div.sk-estimator input.sk-toggleable__control:checked~label.sk-toggleable__label {background-color: #d4ebff;}#sk-container-id-1 div.sk-label input.sk-toggleable__control:checked~label.sk-toggleable__label {background-color: #d4ebff;}#sk-container-id-1 input.sk-hidden--visually {border: 0;clip: rect(1px 1px 1px 1px);clip: rect(1px, 1px, 1px, 1px);height: 1px;margin: -1px;overflow: hidden;padding: 0;position: absolute;width: 1px;}#sk-container-id-1 div.sk-estimator {font-family: monospace;background-color: #f0f8ff;border: 1px dotted black;border-radius: 0.25em;box-sizing: border-box;margin-bottom: 0.5em;}#sk-container-id-1 div.sk-estimator:hover {background-color: #d4ebff;}#sk-container-id-1 div.sk-parallel-item::after {content: \"\";width: 100%;border-bottom: 1px solid gray;flex-grow: 1;}#sk-container-id-1 div.sk-label:hover label.sk-toggleable__label {background-color: #d4ebff;}#sk-container-id-1 div.sk-serial::before {content: \"\";position: absolute;border-left: 1px solid gray;box-sizing: border-box;top: 0;bottom: 0;left: 50%;z-index: 0;}#sk-container-id-1 div.sk-serial {display: flex;flex-direction: column;align-items: center;background-color: white;padding-right: 0.2em;padding-left: 0.2em;position: relative;}#sk-container-id-1 div.sk-item {position: relative;z-index: 1;}#sk-container-id-1 div.sk-parallel {display: flex;align-items: stretch;justify-content: center;background-color: white;position: relative;}#sk-container-id-1 div.sk-item::before, #sk-container-id-1 div.sk-parallel-item::before {content: \"\";position: absolute;border-left: 1px solid gray;box-sizing: border-box;top: 0;bottom: 0;left: 50%;z-index: -1;}#sk-container-id-1 div.sk-parallel-item {display: flex;flex-direction: column;z-index: 1;position: relative;background-color: white;}#sk-container-id-1 div.sk-parallel-item:first-child::after {align-self: flex-end;width: 50%;}#sk-container-id-1 div.sk-parallel-item:last-child::after {align-self: flex-start;width: 50%;}#sk-container-id-1 div.sk-parallel-item:only-child::after {width: 0;}#sk-container-id-1 div.sk-dashed-wrapped {border: 1px dashed gray;margin: 0 0.4em 0.5em 0.4em;box-sizing: border-box;padding-bottom: 0.4em;background-color: white;}#sk-container-id-1 div.sk-label label {font-family: monospace;font-weight: bold;display: inline-block;line-height: 1.2em;}#sk-container-id-1 div.sk-label-container {text-align: center;}#sk-container-id-1 div.sk-container {/* jupyter's `normalize.less` sets `[hidden] { display: none; }` but bootstrap.min.css set `[hidden] { display: none !important; }` so we also need the `!important` here to be able to override the default hidden behavior on the sphinx rendered scikit-learn.org. See: https://github.com/scikit-learn/scikit-learn/issues/21755 */display: inline-block !important;position: relative;}#sk-container-id-1 div.sk-text-repr-fallback {display: none;}</style><div id=\"sk-container-id-1\" class=\"sk-top-container\"><div class=\"sk-text-repr-fallback\"><pre>TPOTRegressor(max_time_mins=480, n_jobs=-1, scoring=&#x27;neg_mean_absolute_error&#x27;,\n",
       "              verbosity=2)</pre><b>In a Jupyter environment, please rerun this cell to show the HTML representation or trust the notebook. <br />On GitHub, the HTML representation is unable to render, please try loading this page with nbviewer.org.</b></div><div class=\"sk-container\" hidden><div class=\"sk-item\"><div class=\"sk-estimator sk-toggleable\"><input class=\"sk-toggleable__control sk-hidden--visually\" id=\"sk-estimator-id-1\" type=\"checkbox\" checked><label for=\"sk-estimator-id-1\" class=\"sk-toggleable__label sk-toggleable__label-arrow\">TPOTRegressor</label><div class=\"sk-toggleable__content\"><pre>TPOTRegressor(max_time_mins=480, n_jobs=-1, scoring=&#x27;neg_mean_absolute_error&#x27;,\n",
       "              verbosity=2)</pre></div></div></div></div></div>"
      ],
      "text/plain": [
       "TPOTRegressor(max_time_mins=480, n_jobs=-1, scoring='neg_mean_absolute_error',\n",
       "              verbosity=2)"
      ]
     },
     "execution_count": 8,
     "metadata": {},
     "output_type": "execute_result"
    }
   ],
   "source": [
    "# Fit the tpot model on the training data\n",
    "tpot.fit(training_features, training_targets)"
   ]
  },
  {
   "cell_type": "code",
   "execution_count": 9,
   "metadata": {},
   "outputs": [
    {
     "name": "stdout",
     "output_type": "stream",
     "text": [
      "Pipeline(steps=[('robustscaler', RobustScaler()),\n",
      "                ('stackingestimator-1',\n",
      "                 StackingEstimator(estimator=ElasticNetCV(l1_ratio=0.75,\n",
      "                                                          tol=1e-05))),\n",
      "                ('stackingestimator-2',\n",
      "                 StackingEstimator(estimator=ExtraTreesRegressor(max_features=0.25,\n",
      "                                                                 min_samples_leaf=20,\n",
      "                                                                 min_samples_split=14))),\n",
      "                ('stackingestimator-3',\n",
      "                 StackingEstimator(estimator=LassoLarsCV(normalize=True)...\n",
      "                 StackingEstimator(estimator=LassoLarsCV(normalize=True))),\n",
      "                ('selectpercentile',\n",
      "                 SelectPercentile(percentile=70,\n",
      "                                  score_func=<function f_regression at 0x000001693C5B6CA0>)),\n",
      "                ('gradientboostingregressor',\n",
      "                 GradientBoostingRegressor(alpha=0.85, loss='huber',\n",
      "                                           max_depth=5,\n",
      "                                           max_features=0.9500000000000001,\n",
      "                                           min_samples_leaf=13,\n",
      "                                           min_samples_split=19,\n",
      "                                           subsample=0.7500000000000001))])\n"
     ]
    }
   ],
   "source": [
    "# Show the final model\n",
    "print(tpot.fitted_pipeline_)"
   ]
  },
  {
   "cell_type": "code",
   "execution_count": 14,
   "metadata": {},
   "outputs": [
    {
     "name": "stdout",
     "output_type": "stream",
     "text": [
      "Imputing missing values in feature set\n",
      "-8.489437339427395\n"
     ]
    },
    {
     "name": "stderr",
     "output_type": "stream",
     "text": [
      "c:\\Users\\USER\\AppData\\Local\\Programs\\Python\\Python39\\lib\\site-packages\\sklearn\\base.py:443: UserWarning: X has feature names, but SimpleImputer was fitted without feature names\n",
      "  warnings.warn(\n",
      "c:\\Users\\USER\\AppData\\Local\\Programs\\Python\\Python39\\lib\\site-packages\\sklearn\\utils\\validation.py:1111: DataConversionWarning: A column-vector y was passed when a 1d array was expected. Please change the shape of y to (n_samples, ), for example using ravel().\n",
      "  y = column_or_1d(y, warn=True)\n",
      "c:\\Users\\USER\\AppData\\Local\\Programs\\Python\\Python39\\lib\\site-packages\\sklearn\\metrics\\_scorer.py:765: FutureWarning: sklearn.metrics.SCORERS is deprecated and will be removed in v1.3. Please use sklearn.metrics.get_scorer_names to get a list of available scorers and sklearn.metrics.get_metric to get scorer.\n",
      "  warnings.warn(\n"
     ]
    }
   ],
   "source": [
    "print(tpot.score(test_features, test_labels))"
   ]
  },
  {
   "cell_type": "code",
   "execution_count": 10,
   "metadata": {},
   "outputs": [],
   "source": [
    "# Export the pipeline as a python script file\n",
    "tpot.export('C:/Users/USER/Desktop/Side/AutoML/tpot_exported_pipeline.py')"
   ]
  },
  {
   "cell_type": "markdown",
   "metadata": {},
   "source": [
    "#model training & exporting"
   ]
  },
  {
   "cell_type": "code",
   "execution_count": 9,
   "metadata": {},
   "outputs": [
    {
     "name": "stdout",
     "output_type": "stream",
     "text": [
      "Training features shape:  (6622, 82)\n",
      "Testing features shape:   (2839, 82)\n"
     ]
    }
   ],
   "source": [
    "# Read in features from GitHub\n",
    "train_features = pd.read_csv('https://raw.githubusercontent.com/WillKoehrsen/machine-learning-project-walkthrough/master/data/X_train.csv')\n",
    "test_features = pd.read_csv('https://raw.githubusercontent.com/WillKoehrsen/machine-learning-project-walkthrough/master/data/X_test.csv')\n",
    "\n",
    "# Read in labels from GitHub\n",
    "train_labels = pd.read_csv('https://raw.githubusercontent.com/WillKoehrsen/machine-learning-project-walkthrough/master/data/Y_train.csv')\n",
    "test_labels = pd.read_csv('https://raw.githubusercontent.com/WillKoehrsen/machine-learning-project-walkthrough/master/data/Y_test.csv')\n",
    "\n",
    "print('Training features shape: ', train_features.shape)\n",
    "print('Testing features shape:  ', test_features.shape)"
   ]
  },
  {
   "cell_type": "code",
   "execution_count": 28,
   "metadata": {},
   "outputs": [
    {
     "name": "stdout",
     "output_type": "stream",
     "text": [
      "(6622, 82) (6622, 1) (6622, 83)\n"
     ]
    }
   ],
   "source": [
    "tpot_data=pd.concat((train_features,train_labels),axis=1)\n",
    "print(train_features.shape,train_labels.shape, tpot_data.shape)"
   ]
  },
  {
   "cell_type": "code",
   "execution_count": 29,
   "metadata": {},
   "outputs": [],
   "source": [
    "# file_root=''\n",
    "target_columns='score'"
   ]
  },
  {
   "cell_type": "code",
   "execution_count": 42,
   "metadata": {},
   "outputs": [
    {
     "name": "stderr",
     "output_type": "stream",
     "text": [
      "c:\\Users\\USER\\AppData\\Local\\Programs\\Python\\Python39\\lib\\site-packages\\sklearn\\linear_model\\_coordinate_descent.py:634: ConvergenceWarning: Objective did not converge. You might want to increase the number of iterations. Duality gap: 105.39836232434027, tolerance: 34.26313698968036\n",
      "  model = cd_fast.enet_coordinate_descent_gram(\n",
      "c:\\Users\\USER\\AppData\\Local\\Programs\\Python\\Python39\\lib\\site-packages\\sklearn\\linear_model\\_coordinate_descent.py:634: ConvergenceWarning: Objective did not converge. You might want to increase the number of iterations. Duality gap: 214.1978870544117, tolerance: 34.26313698968036\n",
      "  model = cd_fast.enet_coordinate_descent_gram(\n",
      "c:\\Users\\USER\\AppData\\Local\\Programs\\Python\\Python39\\lib\\site-packages\\sklearn\\svm\\_base.py:1225: ConvergenceWarning: Liblinear failed to converge, increase the number of iterations.\n",
      "  warnings.warn(\n"
     ]
    }
   ],
   "source": [
    "#model\n",
    "import numpy as np\n",
    "import pandas as pd\n",
    "from sklearn.ensemble import ExtraTreesRegressor, GradientBoostingRegressor\n",
    "from sklearn.feature_selection import SelectPercentile, f_regression\n",
    "from sklearn.linear_model import ElasticNetCV, LassoLarsCV\n",
    "from sklearn.model_selection import train_test_split\n",
    "from sklearn.pipeline import make_pipeline, make_union\n",
    "from sklearn.preprocessing import RobustScaler\n",
    "from sklearn.svm import LinearSVR\n",
    "from tpot.builtins import StackingEstimator\n",
    "from sklearn.impute import SimpleImputer\n",
    "\n",
    "# NOTE: Make sure that the outcome column is labeled 'target' in the data file\n",
    "# tpot_data = pd.read_csv(file_root, dtype=np.float64)\n",
    "features = tpot_data.drop(target_columns, axis=1)\n",
    "training_features, testing_features, training_target, testing_target = \\\n",
    "            train_test_split(features, tpot_data[target_columns], random_state=None)\n",
    "\n",
    "imputer = SimpleImputer(strategy=\"median\")\n",
    "imputer.fit(training_features)\n",
    "training_features = imputer.transform(training_features)\n",
    "testing_features = imputer.transform(testing_features)\n",
    "\n",
    "# Average CV score on the training set was: -8.374024929929377\n",
    "exported_pipeline = make_pipeline(\n",
    "    RobustScaler(),\n",
    "    StackingEstimator(estimator=ElasticNetCV(l1_ratio=0.75, tol=1e-05)),\n",
    "    StackingEstimator(estimator=ExtraTreesRegressor(bootstrap=False, max_features=0.25, min_samples_leaf=20, min_samples_split=14, n_estimators=100)),\n",
    "    StackingEstimator(estimator=LassoLarsCV(normalize=True)),\n",
    "    StackingEstimator(estimator=LinearSVR(C=5.0, dual=True, epsilon=1.0, loss=\"squared_epsilon_insensitive\", tol=0.01)),\n",
    "    StackingEstimator(estimator=LassoLarsCV(normalize=True)),\n",
    "    SelectPercentile(score_func=f_regression, percentile=70),\n",
    "    GradientBoostingRegressor(alpha=0.85, learning_rate=0.1, loss=\"huber\", max_depth=5, max_features=0.9500000000000001, min_samples_leaf=13, min_samples_split=19, n_estimators=100, subsample=0.7500000000000001)\n",
    ")\n",
    "\n",
    "model=exported_pipeline.fit(training_features, training_target)\n",
    "results = model.predict(testing_features)\n",
    "\n"
   ]
  },
  {
   "cell_type": "code",
   "execution_count": 43,
   "metadata": {},
   "outputs": [
    {
     "data": {
      "text/html": [
       "<style>#sk-container-id-4 {color: black;background-color: white;}#sk-container-id-4 pre{padding: 0;}#sk-container-id-4 div.sk-toggleable {background-color: white;}#sk-container-id-4 label.sk-toggleable__label {cursor: pointer;display: block;width: 100%;margin-bottom: 0;padding: 0.3em;box-sizing: border-box;text-align: center;}#sk-container-id-4 label.sk-toggleable__label-arrow:before {content: \"▸\";float: left;margin-right: 0.25em;color: #696969;}#sk-container-id-4 label.sk-toggleable__label-arrow:hover:before {color: black;}#sk-container-id-4 div.sk-estimator:hover label.sk-toggleable__label-arrow:before {color: black;}#sk-container-id-4 div.sk-toggleable__content {max-height: 0;max-width: 0;overflow: hidden;text-align: left;background-color: #f0f8ff;}#sk-container-id-4 div.sk-toggleable__content pre {margin: 0.2em;color: black;border-radius: 0.25em;background-color: #f0f8ff;}#sk-container-id-4 input.sk-toggleable__control:checked~div.sk-toggleable__content {max-height: 200px;max-width: 100%;overflow: auto;}#sk-container-id-4 input.sk-toggleable__control:checked~label.sk-toggleable__label-arrow:before {content: \"▾\";}#sk-container-id-4 div.sk-estimator input.sk-toggleable__control:checked~label.sk-toggleable__label {background-color: #d4ebff;}#sk-container-id-4 div.sk-label input.sk-toggleable__control:checked~label.sk-toggleable__label {background-color: #d4ebff;}#sk-container-id-4 input.sk-hidden--visually {border: 0;clip: rect(1px 1px 1px 1px);clip: rect(1px, 1px, 1px, 1px);height: 1px;margin: -1px;overflow: hidden;padding: 0;position: absolute;width: 1px;}#sk-container-id-4 div.sk-estimator {font-family: monospace;background-color: #f0f8ff;border: 1px dotted black;border-radius: 0.25em;box-sizing: border-box;margin-bottom: 0.5em;}#sk-container-id-4 div.sk-estimator:hover {background-color: #d4ebff;}#sk-container-id-4 div.sk-parallel-item::after {content: \"\";width: 100%;border-bottom: 1px solid gray;flex-grow: 1;}#sk-container-id-4 div.sk-label:hover label.sk-toggleable__label {background-color: #d4ebff;}#sk-container-id-4 div.sk-serial::before {content: \"\";position: absolute;border-left: 1px solid gray;box-sizing: border-box;top: 0;bottom: 0;left: 50%;z-index: 0;}#sk-container-id-4 div.sk-serial {display: flex;flex-direction: column;align-items: center;background-color: white;padding-right: 0.2em;padding-left: 0.2em;position: relative;}#sk-container-id-4 div.sk-item {position: relative;z-index: 1;}#sk-container-id-4 div.sk-parallel {display: flex;align-items: stretch;justify-content: center;background-color: white;position: relative;}#sk-container-id-4 div.sk-item::before, #sk-container-id-4 div.sk-parallel-item::before {content: \"\";position: absolute;border-left: 1px solid gray;box-sizing: border-box;top: 0;bottom: 0;left: 50%;z-index: -1;}#sk-container-id-4 div.sk-parallel-item {display: flex;flex-direction: column;z-index: 1;position: relative;background-color: white;}#sk-container-id-4 div.sk-parallel-item:first-child::after {align-self: flex-end;width: 50%;}#sk-container-id-4 div.sk-parallel-item:last-child::after {align-self: flex-start;width: 50%;}#sk-container-id-4 div.sk-parallel-item:only-child::after {width: 0;}#sk-container-id-4 div.sk-dashed-wrapped {border: 1px dashed gray;margin: 0 0.4em 0.5em 0.4em;box-sizing: border-box;padding-bottom: 0.4em;background-color: white;}#sk-container-id-4 div.sk-label label {font-family: monospace;font-weight: bold;display: inline-block;line-height: 1.2em;}#sk-container-id-4 div.sk-label-container {text-align: center;}#sk-container-id-4 div.sk-container {/* jupyter's `normalize.less` sets `[hidden] { display: none; }` but bootstrap.min.css set `[hidden] { display: none !important; }` so we also need the `!important` here to be able to override the default hidden behavior on the sphinx rendered scikit-learn.org. See: https://github.com/scikit-learn/scikit-learn/issues/21755 */display: inline-block !important;position: relative;}#sk-container-id-4 div.sk-text-repr-fallback {display: none;}</style><div id=\"sk-container-id-4\" class=\"sk-top-container\"><div class=\"sk-text-repr-fallback\"><pre>Pipeline(steps=[(&#x27;robustscaler&#x27;, RobustScaler()),\n",
       "                (&#x27;stackingestimator-1&#x27;,\n",
       "                 StackingEstimator(estimator=ElasticNetCV(l1_ratio=0.75,\n",
       "                                                          tol=1e-05))),\n",
       "                (&#x27;stackingestimator-2&#x27;,\n",
       "                 StackingEstimator(estimator=ExtraTreesRegressor(max_features=0.25,\n",
       "                                                                 min_samples_leaf=20,\n",
       "                                                                 min_samples_split=14))),\n",
       "                (&#x27;stackingestimator-3&#x27;,\n",
       "                 StackingEstimator(estimator=LassoLarsCV(normalize=True)...\n",
       "                 StackingEstimator(estimator=LassoLarsCV(normalize=True))),\n",
       "                (&#x27;selectpercentile&#x27;,\n",
       "                 SelectPercentile(percentile=70,\n",
       "                                  score_func=&lt;function f_regression at 0x000001693C5B6CA0&gt;)),\n",
       "                (&#x27;gradientboostingregressor&#x27;,\n",
       "                 GradientBoostingRegressor(alpha=0.85, loss=&#x27;huber&#x27;,\n",
       "                                           max_depth=5,\n",
       "                                           max_features=0.9500000000000001,\n",
       "                                           min_samples_leaf=13,\n",
       "                                           min_samples_split=19,\n",
       "                                           subsample=0.7500000000000001))])</pre><b>In a Jupyter environment, please rerun this cell to show the HTML representation or trust the notebook. <br />On GitHub, the HTML representation is unable to render, please try loading this page with nbviewer.org.</b></div><div class=\"sk-container\" hidden><div class=\"sk-item sk-dashed-wrapped\"><div class=\"sk-label-container\"><div class=\"sk-label sk-toggleable\"><input class=\"sk-toggleable__control sk-hidden--visually\" id=\"sk-estimator-id-22\" type=\"checkbox\" ><label for=\"sk-estimator-id-22\" class=\"sk-toggleable__label sk-toggleable__label-arrow\">Pipeline</label><div class=\"sk-toggleable__content\"><pre>Pipeline(steps=[(&#x27;robustscaler&#x27;, RobustScaler()),\n",
       "                (&#x27;stackingestimator-1&#x27;,\n",
       "                 StackingEstimator(estimator=ElasticNetCV(l1_ratio=0.75,\n",
       "                                                          tol=1e-05))),\n",
       "                (&#x27;stackingestimator-2&#x27;,\n",
       "                 StackingEstimator(estimator=ExtraTreesRegressor(max_features=0.25,\n",
       "                                                                 min_samples_leaf=20,\n",
       "                                                                 min_samples_split=14))),\n",
       "                (&#x27;stackingestimator-3&#x27;,\n",
       "                 StackingEstimator(estimator=LassoLarsCV(normalize=True)...\n",
       "                 StackingEstimator(estimator=LassoLarsCV(normalize=True))),\n",
       "                (&#x27;selectpercentile&#x27;,\n",
       "                 SelectPercentile(percentile=70,\n",
       "                                  score_func=&lt;function f_regression at 0x000001693C5B6CA0&gt;)),\n",
       "                (&#x27;gradientboostingregressor&#x27;,\n",
       "                 GradientBoostingRegressor(alpha=0.85, loss=&#x27;huber&#x27;,\n",
       "                                           max_depth=5,\n",
       "                                           max_features=0.9500000000000001,\n",
       "                                           min_samples_leaf=13,\n",
       "                                           min_samples_split=19,\n",
       "                                           subsample=0.7500000000000001))])</pre></div></div></div><div class=\"sk-serial\"><div class=\"sk-item\"><div class=\"sk-estimator sk-toggleable\"><input class=\"sk-toggleable__control sk-hidden--visually\" id=\"sk-estimator-id-23\" type=\"checkbox\" ><label for=\"sk-estimator-id-23\" class=\"sk-toggleable__label sk-toggleable__label-arrow\">RobustScaler</label><div class=\"sk-toggleable__content\"><pre>RobustScaler()</pre></div></div></div><div class=\"sk-item sk-dashed-wrapped\"><div class=\"sk-label-container\"><div class=\"sk-label sk-toggleable\"><input class=\"sk-toggleable__control sk-hidden--visually\" id=\"sk-estimator-id-24\" type=\"checkbox\" ><label for=\"sk-estimator-id-24\" class=\"sk-toggleable__label sk-toggleable__label-arrow\">stackingestimator-1: StackingEstimator</label><div class=\"sk-toggleable__content\"><pre>StackingEstimator(estimator=ElasticNetCV(l1_ratio=0.75, tol=1e-05))</pre></div></div></div><div class=\"sk-parallel\"><div class=\"sk-parallel-item\"><div class=\"sk-item\"><div class=\"sk-label-container\"><div class=\"sk-label sk-toggleable\"><input class=\"sk-toggleable__control sk-hidden--visually\" id=\"sk-estimator-id-25\" type=\"checkbox\" ><label for=\"sk-estimator-id-25\" class=\"sk-toggleable__label sk-toggleable__label-arrow\">estimator: ElasticNetCV</label><div class=\"sk-toggleable__content\"><pre>ElasticNetCV(l1_ratio=0.75, tol=1e-05)</pre></div></div></div><div class=\"sk-serial\"><div class=\"sk-item\"><div class=\"sk-estimator sk-toggleable\"><input class=\"sk-toggleable__control sk-hidden--visually\" id=\"sk-estimator-id-26\" type=\"checkbox\" ><label for=\"sk-estimator-id-26\" class=\"sk-toggleable__label sk-toggleable__label-arrow\">ElasticNetCV</label><div class=\"sk-toggleable__content\"><pre>ElasticNetCV(l1_ratio=0.75, tol=1e-05)</pre></div></div></div></div></div></div></div></div><div class=\"sk-item sk-dashed-wrapped\"><div class=\"sk-label-container\"><div class=\"sk-label sk-toggleable\"><input class=\"sk-toggleable__control sk-hidden--visually\" id=\"sk-estimator-id-27\" type=\"checkbox\" ><label for=\"sk-estimator-id-27\" class=\"sk-toggleable__label sk-toggleable__label-arrow\">stackingestimator-2: StackingEstimator</label><div class=\"sk-toggleable__content\"><pre>StackingEstimator(estimator=ExtraTreesRegressor(max_features=0.25,\n",
       "                                                min_samples_leaf=20,\n",
       "                                                min_samples_split=14))</pre></div></div></div><div class=\"sk-parallel\"><div class=\"sk-parallel-item\"><div class=\"sk-item\"><div class=\"sk-label-container\"><div class=\"sk-label sk-toggleable\"><input class=\"sk-toggleable__control sk-hidden--visually\" id=\"sk-estimator-id-28\" type=\"checkbox\" ><label for=\"sk-estimator-id-28\" class=\"sk-toggleable__label sk-toggleable__label-arrow\">estimator: ExtraTreesRegressor</label><div class=\"sk-toggleable__content\"><pre>ExtraTreesRegressor(max_features=0.25, min_samples_leaf=20,\n",
       "                    min_samples_split=14)</pre></div></div></div><div class=\"sk-serial\"><div class=\"sk-item\"><div class=\"sk-estimator sk-toggleable\"><input class=\"sk-toggleable__control sk-hidden--visually\" id=\"sk-estimator-id-29\" type=\"checkbox\" ><label for=\"sk-estimator-id-29\" class=\"sk-toggleable__label sk-toggleable__label-arrow\">ExtraTreesRegressor</label><div class=\"sk-toggleable__content\"><pre>ExtraTreesRegressor(max_features=0.25, min_samples_leaf=20,\n",
       "                    min_samples_split=14)</pre></div></div></div></div></div></div></div></div><div class=\"sk-item sk-dashed-wrapped\"><div class=\"sk-label-container\"><div class=\"sk-label sk-toggleable\"><input class=\"sk-toggleable__control sk-hidden--visually\" id=\"sk-estimator-id-30\" type=\"checkbox\" ><label for=\"sk-estimator-id-30\" class=\"sk-toggleable__label sk-toggleable__label-arrow\">stackingestimator-3: StackingEstimator</label><div class=\"sk-toggleable__content\"><pre>StackingEstimator(estimator=LassoLarsCV(normalize=True))</pre></div></div></div><div class=\"sk-parallel\"><div class=\"sk-parallel-item\"><div class=\"sk-item\"><div class=\"sk-label-container\"><div class=\"sk-label sk-toggleable\"><input class=\"sk-toggleable__control sk-hidden--visually\" id=\"sk-estimator-id-31\" type=\"checkbox\" ><label for=\"sk-estimator-id-31\" class=\"sk-toggleable__label sk-toggleable__label-arrow\">estimator: LassoLarsCV</label><div class=\"sk-toggleable__content\"><pre>LassoLarsCV(normalize=True)</pre></div></div></div><div class=\"sk-serial\"><div class=\"sk-item\"><div class=\"sk-estimator sk-toggleable\"><input class=\"sk-toggleable__control sk-hidden--visually\" id=\"sk-estimator-id-32\" type=\"checkbox\" ><label for=\"sk-estimator-id-32\" class=\"sk-toggleable__label sk-toggleable__label-arrow\">LassoLarsCV</label><div class=\"sk-toggleable__content\"><pre>LassoLarsCV(normalize=True)</pre></div></div></div></div></div></div></div></div><div class=\"sk-item sk-dashed-wrapped\"><div class=\"sk-label-container\"><div class=\"sk-label sk-toggleable\"><input class=\"sk-toggleable__control sk-hidden--visually\" id=\"sk-estimator-id-33\" type=\"checkbox\" ><label for=\"sk-estimator-id-33\" class=\"sk-toggleable__label sk-toggleable__label-arrow\">stackingestimator-4: StackingEstimator</label><div class=\"sk-toggleable__content\"><pre>StackingEstimator(estimator=LinearSVR(C=5.0, epsilon=1.0,\n",
       "                                      loss=&#x27;squared_epsilon_insensitive&#x27;,\n",
       "                                      tol=0.01))</pre></div></div></div><div class=\"sk-parallel\"><div class=\"sk-parallel-item\"><div class=\"sk-item\"><div class=\"sk-label-container\"><div class=\"sk-label sk-toggleable\"><input class=\"sk-toggleable__control sk-hidden--visually\" id=\"sk-estimator-id-34\" type=\"checkbox\" ><label for=\"sk-estimator-id-34\" class=\"sk-toggleable__label sk-toggleable__label-arrow\">estimator: LinearSVR</label><div class=\"sk-toggleable__content\"><pre>LinearSVR(C=5.0, epsilon=1.0, loss=&#x27;squared_epsilon_insensitive&#x27;, tol=0.01)</pre></div></div></div><div class=\"sk-serial\"><div class=\"sk-item\"><div class=\"sk-estimator sk-toggleable\"><input class=\"sk-toggleable__control sk-hidden--visually\" id=\"sk-estimator-id-35\" type=\"checkbox\" ><label for=\"sk-estimator-id-35\" class=\"sk-toggleable__label sk-toggleable__label-arrow\">LinearSVR</label><div class=\"sk-toggleable__content\"><pre>LinearSVR(C=5.0, epsilon=1.0, loss=&#x27;squared_epsilon_insensitive&#x27;, tol=0.01)</pre></div></div></div></div></div></div></div></div><div class=\"sk-item sk-dashed-wrapped\"><div class=\"sk-label-container\"><div class=\"sk-label sk-toggleable\"><input class=\"sk-toggleable__control sk-hidden--visually\" id=\"sk-estimator-id-36\" type=\"checkbox\" ><label for=\"sk-estimator-id-36\" class=\"sk-toggleable__label sk-toggleable__label-arrow\">stackingestimator-5: StackingEstimator</label><div class=\"sk-toggleable__content\"><pre>StackingEstimator(estimator=LassoLarsCV(normalize=True))</pre></div></div></div><div class=\"sk-parallel\"><div class=\"sk-parallel-item\"><div class=\"sk-item\"><div class=\"sk-label-container\"><div class=\"sk-label sk-toggleable\"><input class=\"sk-toggleable__control sk-hidden--visually\" id=\"sk-estimator-id-37\" type=\"checkbox\" ><label for=\"sk-estimator-id-37\" class=\"sk-toggleable__label sk-toggleable__label-arrow\">estimator: LassoLarsCV</label><div class=\"sk-toggleable__content\"><pre>LassoLarsCV(normalize=True)</pre></div></div></div><div class=\"sk-serial\"><div class=\"sk-item\"><div class=\"sk-estimator sk-toggleable\"><input class=\"sk-toggleable__control sk-hidden--visually\" id=\"sk-estimator-id-38\" type=\"checkbox\" ><label for=\"sk-estimator-id-38\" class=\"sk-toggleable__label sk-toggleable__label-arrow\">LassoLarsCV</label><div class=\"sk-toggleable__content\"><pre>LassoLarsCV(normalize=True)</pre></div></div></div></div></div></div></div></div><div class=\"sk-item\"><div class=\"sk-estimator sk-toggleable\"><input class=\"sk-toggleable__control sk-hidden--visually\" id=\"sk-estimator-id-39\" type=\"checkbox\" ><label for=\"sk-estimator-id-39\" class=\"sk-toggleable__label sk-toggleable__label-arrow\">SelectPercentile</label><div class=\"sk-toggleable__content\"><pre>SelectPercentile(percentile=70,\n",
       "                 score_func=&lt;function f_regression at 0x000001693C5B6CA0&gt;)</pre></div></div></div><div class=\"sk-item\"><div class=\"sk-estimator sk-toggleable\"><input class=\"sk-toggleable__control sk-hidden--visually\" id=\"sk-estimator-id-40\" type=\"checkbox\" ><label for=\"sk-estimator-id-40\" class=\"sk-toggleable__label sk-toggleable__label-arrow\">GradientBoostingRegressor</label><div class=\"sk-toggleable__content\"><pre>GradientBoostingRegressor(alpha=0.85, loss=&#x27;huber&#x27;, max_depth=5,\n",
       "                          max_features=0.9500000000000001, min_samples_leaf=13,\n",
       "                          min_samples_split=19, subsample=0.7500000000000001)</pre></div></div></div></div></div></div></div>"
      ],
      "text/plain": [
       "Pipeline(steps=[('robustscaler', RobustScaler()),\n",
       "                ('stackingestimator-1',\n",
       "                 StackingEstimator(estimator=ElasticNetCV(l1_ratio=0.75,\n",
       "                                                          tol=1e-05))),\n",
       "                ('stackingestimator-2',\n",
       "                 StackingEstimator(estimator=ExtraTreesRegressor(max_features=0.25,\n",
       "                                                                 min_samples_leaf=20,\n",
       "                                                                 min_samples_split=14))),\n",
       "                ('stackingestimator-3',\n",
       "                 StackingEstimator(estimator=LassoLarsCV(normalize=True)...\n",
       "                 StackingEstimator(estimator=LassoLarsCV(normalize=True))),\n",
       "                ('selectpercentile',\n",
       "                 SelectPercentile(percentile=70,\n",
       "                                  score_func=<function f_regression at 0x000001693C5B6CA0>)),\n",
       "                ('gradientboostingregressor',\n",
       "                 GradientBoostingRegressor(alpha=0.85, loss='huber',\n",
       "                                           max_depth=5,\n",
       "                                           max_features=0.9500000000000001,\n",
       "                                           min_samples_leaf=13,\n",
       "                                           min_samples_split=19,\n",
       "                                           subsample=0.7500000000000001))])"
      ]
     },
     "execution_count": 43,
     "metadata": {},
     "output_type": "execute_result"
    }
   ],
   "source": [
    "exported_pipeline"
   ]
  },
  {
   "cell_type": "code",
   "execution_count": 44,
   "metadata": {},
   "outputs": [
    {
     "name": "stdout",
     "output_type": "stream",
     "text": [
      "Mean Absolute Error = 8.3648\n"
     ]
    }
   ],
   "source": [
    "print('Mean Absolute Error = %0.4f' % np.mean(abs(results - testing_target)))"
   ]
  },
  {
   "cell_type": "code",
   "execution_count": 48,
   "metadata": {},
   "outputs": [],
   "source": [
    "# model save to disk\n",
    "import pickle\n",
    "filename = 'C:/Users/USER/Desktop/Side/AutoML/TPOT_regressor_model.sav'\n",
    "pickle.dump(model, open(filename, 'wb'))"
   ]
  },
  {
   "cell_type": "code",
   "execution_count": 51,
   "metadata": {},
   "outputs": [
    {
     "name": "stdout",
     "output_type": "stream",
     "text": [
      "Mean Absolute Error = 8.3648\n"
     ]
    }
   ],
   "source": [
    "# load the model from disk\n",
    "loaded_model = pickle.load(open(filename, 'rb'))\n",
    "results_f = loaded_model.predict(testing_features)\n",
    "# result_f = loaded_model.score(testing_features, testing_target)\n",
    "print('Mean Absolute Error = %0.4f' % np.mean(abs(results_f - testing_target)))"
   ]
  },
  {
   "cell_type": "markdown",
   "metadata": {},
   "source": [
    "#plot (결과 시각화) , Test data"
   ]
  },
  {
   "cell_type": "code",
   "execution_count": 76,
   "metadata": {},
   "outputs": [],
   "source": [
    "test_features = pd.read_csv('https://raw.githubusercontent.com/WillKoehrsen/machine-learning-project-walkthrough/master/data/X_test.csv')\n",
    "test_labels = pd.read_csv('https://raw.githubusercontent.com/WillKoehrsen/machine-learning-project-walkthrough/master/data/Y_test.csv')"
   ]
  },
  {
   "cell_type": "code",
   "execution_count": 82,
   "metadata": {},
   "outputs": [],
   "source": [
    "imputer = SimpleImputer(strategy=\"median\")\n",
    "imputer.fit(test_features)\n",
    "testing_features2 = imputer.transform(test_features)\n"
   ]
  },
  {
   "cell_type": "code",
   "execution_count": 85,
   "metadata": {},
   "outputs": [
    {
     "data": {
      "text/plain": [
       "array([16.01790992, 48.72238202, 58.83958671, ..., 80.67036897,\n",
       "       66.88308332, 96.00536315])"
      ]
     },
     "execution_count": 85,
     "metadata": {},
     "output_type": "execute_result"
    }
   ],
   "source": [
    "results_t = loaded_model.predict(testing_features2)\n"
   ]
  },
  {
   "cell_type": "code",
   "execution_count": 101,
   "metadata": {},
   "outputs": [],
   "source": [
    "test_labels['predict']=pd.DataFrame(results_t)\n",
    "dd=test_labels.iloc[2820:]"
   ]
  },
  {
   "cell_type": "code",
   "execution_count": 106,
   "metadata": {},
   "outputs": [
    {
     "data": {
      "text/plain": [
       "Text(0.5, 0, 'Date')"
      ]
     },
     "execution_count": 106,
     "metadata": {},
     "output_type": "execute_result"
    },
    {
     "data": {
      "image/png": "[encoded data removed]",
      "text/plain": [
       "<Figure size 1440x720 with 1 Axes>"
      ]
     },
     "metadata": {
      "needs_background": "light"
     },
     "output_type": "display_data"
    }
   ],
   "source": [
    "  import matplotlib.pyplot as plt\n",
    "  plt.figure(figsize=(20,10))\n",
    "  plt.plot(dd.index,dd['predict'], 'b')\n",
    "  plt.plot(dd.index,dd['score'], 'r')\n",
    "  plt.ylabel('score', color='blue')\n",
    "  plt.title('compare predict & real')\n",
    "  plt.xlabel('Date')"
   ]
  },
  {
   "cell_type": "markdown",
   "metadata": {},
   "source": [
    "### 실제 데이터 활용(한솔 데이터 전력 사용량 데이터)"
   ]
  },
  {
   "cell_type": "code",
   "execution_count": 90,
   "metadata": {},
   "outputs": [],
   "source": [
    "import pandas as pd\n",
    "data=pd.read_csv('C:/Users/USER/Desktop/진행중/FEMS/datamart/HS_DataMart_v1.0.csv',encoding='cp949')"
   ]
  },
  {
   "cell_type": "code",
   "execution_count": 91,
   "metadata": {},
   "outputs": [],
   "source": [
    "data=data.drop(['Unnamed: 0'], axis=1)"
   ]
  },
  {
   "cell_type": "code",
   "execution_count": 92,
   "metadata": {},
   "outputs": [
    {
     "name": "stdout",
     "output_type": "stream",
     "text": [
      "<class 'pandas.core.frame.DataFrame'>\n",
      "RangeIndex: 4366 entries, 0 to 4365\n",
      "Data columns (total 24 columns):\n",
      " #   Column                           Non-Null Count  Dtype         \n",
      "---  ------                           --------------  -----         \n",
      " 0   datetime                         4366 non-null   datetime64[ns]\n",
      " 1   초지_전력사용량                         4366 non-null   float64       \n",
      " 2   Press_전력사용량                      4366 non-null   float64       \n",
      " 3   Constant_전력사용량                   4366 non-null   float64       \n",
      " 4   Wire_전력사용량                       4366 non-null   float64       \n",
      " 5   AIR_전력사용량                        4366 non-null   float64       \n",
      " 6   Size_전력사용량                       4366 non-null   float64       \n",
      " 7   Calender_전력사용량                   4366 non-null   float64       \n",
      " 8   Drive_전력사용량                      4366 non-null   float64       \n",
      " 9   Pre-Dryer_전력사용량                  4366 non-null   float64       \n",
      " 10  After-Dryer_전력사용량                4366 non-null   float64       \n",
      " 11  (비정상)지절시 운전                      4366 non-null   float64       \n",
      " 12  (비정상)카렌더 SHEET BREAK SENSOR TAG  4366 non-null   float64       \n",
      " 13  (비정상)PICK-UP VACCUM 파괴 밸브 TAG    4366 non-null   float64       \n",
      " 14  TURNING ROLL 보류율                 4366 non-null   float64       \n",
      " 15  사이로 백수 온도                        4366 non-null   float64       \n",
      " 16  TURNING ROLL_WIRE 진공도 토탈         4366 non-null   float64       \n",
      " 17  TURNING ROLL 속도                  4366 non-null   float64       \n",
      " 18  CENTER NO2 ROLL 속도               4366 non-null   float64       \n",
      " 19  1군 DRYER 속도                      4366 non-null   float64       \n",
      " 20  NO8 DRYER 속도                     4366 non-null   float64       \n",
      " 21  CALENDER BTM ROLL속도              4366 non-null   float64       \n",
      " 22  PM23_평량                          4364 non-null   float64       \n",
      " 23  PM23_릴속도                         1442 non-null   float64       \n",
      "dtypes: datetime64[ns](1), float64(23)\n",
      "memory usage: 818.8 KB\n"
     ]
    }
   ],
   "source": [
    "data['datetime']=pd.to_datetime(data['datetime'])\n",
    "data.info(verbose=True)\n"
   ]
  },
  {
   "cell_type": "code",
   "execution_count": null,
   "metadata": {},
   "outputs": [],
   "source": [
    "#train,test split\n",
    "\n",
    "from math import floor\n",
    "def train_test_split_df(df, test_size):\n",
    "  # TODO: test_size(0 < test_size < 1) 비율에 따라 테스트/학습 데이터프레임으로 나누어 반환\n",
    "  div = floor(df.shape[0] * (1 - test_size))\n",
    "  return df.loc[:div], df.loc[div + 1:]\n",
    "\n",
    "train_df, test_df = train_test_split_df(data, 0.01)\n"
   ]
  },
  {
   "cell_type": "code",
   "execution_count": null,
   "metadata": {},
   "outputs": [],
   "source": [
    "print('Train data :',train_df['datetime'].min(),' ~ ',train_df['datetime'].max(),'(',len(train_df),')')\n",
    "print('Test data :',test_df['datetime'].min(),' ~ ',test_df['datetime'].max(),'(',len(test_df),')')\n"
   ]
  },
  {
   "cell_type": "markdown",
   "metadata": {},
   "source": [
    "#feature engineering\n",
    "1. (비정상) column downtime 제거  (209개 제거됨)   \n",
    "2. datetime을 feature(mon,day,hour,min,weekday)화    \n",
    "\n",
    " *  feature :    \n",
    "    1. 'TURNING ROLL 보류율',    \n",
    "    2. '사이로 백수 온도',\n",
    "    3. 'TURNING ROLL_WIRE 진공도 토탈',     \n",
    "    4. 'TURNING ROLL 속도',    \n",
    "    5. 'CENTER NO2 ROLL 속도',     \n",
    "    6. '1군 DRYER 속도',   \n",
    "    7. 'NO8 DRYER 속도',    \n",
    "    8. 'CALENDER BTM ROLL속도',    \n",
    "    9. 'PM23_평량',    \n",
    "    10. 'PM23_릴속도'\n",
    "\n",
    "\n",
    "\n",
    "\n",
    "\n",
    "\n",
    " \n"
   ]
  },
  {
   "cell_type": "code",
   "execution_count": 95,
   "metadata": {},
   "outputs": [
    {
     "name": "stdout",
     "output_type": "stream",
     "text": [
      "<class 'pandas.core.frame.DataFrame'>\n",
      "Int64Index: 4114 entries, 0 to 4322\n",
      "Data columns (total 24 columns):\n",
      " #   Column                           Non-Null Count  Dtype         \n",
      "---  ------                           --------------  -----         \n",
      " 0   datetime                         4114 non-null   datetime64[ns]\n",
      " 1   초지_전력사용량                         4114 non-null   float64       \n",
      " 2   Press_전력사용량                      4114 non-null   float64       \n",
      " 3   Constant_전력사용량                   4114 non-null   float64       \n",
      " 4   Wire_전력사용량                       4114 non-null   float64       \n",
      " 5   AIR_전력사용량                        4114 non-null   float64       \n",
      " 6   Size_전력사용량                       4114 non-null   float64       \n",
      " 7   Calender_전력사용량                   4114 non-null   float64       \n",
      " 8   Drive_전력사용량                      4114 non-null   float64       \n",
      " 9   Pre-Dryer_전력사용량                  4114 non-null   float64       \n",
      " 10  After-Dryer_전력사용량                4114 non-null   float64       \n",
      " 11  (비정상)지절시 운전                      4114 non-null   object        \n",
      " 12  (비정상)카렌더 SHEET BREAK SENSOR TAG  4114 non-null   object        \n",
      " 13  (비정상)PICK-UP VACCUM 파괴 밸브 TAG    4114 non-null   object        \n",
      " 14  TURNING ROLL 보류율                 4114 non-null   float64       \n",
      " 15  사이로 백수 온도                        4114 non-null   float64       \n",
      " 16  TURNING ROLL_WIRE 진공도 토탈         4114 non-null   float64       \n",
      " 17  TURNING ROLL 속도                  4114 non-null   float64       \n",
      " 18  CENTER NO2 ROLL 속도               4114 non-null   float64       \n",
      " 19  1군 DRYER 속도                      4114 non-null   float64       \n",
      " 20  NO8 DRYER 속도                     4114 non-null   float64       \n",
      " 21  CALENDER BTM ROLL속도              4114 non-null   float64       \n",
      " 22  PM23_평량                          4113 non-null   float64       \n",
      " 23  PM23_릴속도                         1317 non-null   float64       \n",
      "dtypes: datetime64[ns](1), float64(20), object(3)\n",
      "memory usage: 803.5+ KB\n",
      "Train data : 2022-04-26 00:00:00  ~  2022-06-10 00:30:00 ( 4114 )\n"
     ]
    },
    {
     "name": "stderr",
     "output_type": "stream",
     "text": [
      "C:\\Users\\USER\\AppData\\Local\\Temp\\ipykernel_22824\\3271174320.py:5: SettingWithCopyWarning: \n",
      "A value is trying to be set on a copy of a slice from a DataFrame.\n",
      "Try using .loc[row_indexer,col_indexer] = value instead\n",
      "\n",
      "See the caveats in the documentation: https://pandas.pydata.org/pandas-docs/stable/user_guide/indexing.html#returning-a-view-versus-a-copy\n",
      "  train_df['(비정상)지절시 운전']=train_df['(비정상)지절시 운전'].astype(str)\n",
      "C:\\Users\\USER\\AppData\\Local\\Temp\\ipykernel_22824\\3271174320.py:6: SettingWithCopyWarning: \n",
      "A value is trying to be set on a copy of a slice from a DataFrame.\n",
      "Try using .loc[row_indexer,col_indexer] = value instead\n",
      "\n",
      "See the caveats in the documentation: https://pandas.pydata.org/pandas-docs/stable/user_guide/indexing.html#returning-a-view-versus-a-copy\n",
      "  train_df['(비정상)카렌더 SHEET BREAK SENSOR TAG']=train_df['(비정상)카렌더 SHEET BREAK SENSOR TAG'].astype(str)\n",
      "C:\\Users\\USER\\AppData\\Local\\Temp\\ipykernel_22824\\3271174320.py:7: SettingWithCopyWarning: \n",
      "A value is trying to be set on a copy of a slice from a DataFrame.\n",
      "Try using .loc[row_indexer,col_indexer] = value instead\n",
      "\n",
      "See the caveats in the documentation: https://pandas.pydata.org/pandas-docs/stable/user_guide/indexing.html#returning-a-view-versus-a-copy\n",
      "  train_df['(비정상)PICK-UP VACCUM 파괴 밸브 TAG']=train_df['(비정상)PICK-UP VACCUM 파괴 밸브 TAG'].astype(str)\n"
     ]
    }
   ],
   "source": [
    "#1.  (비정상) column downtime 제거   \n",
    "# '(비정상)지절시 운전' : 1을 제거\n",
    "# '(비정상)카렌더 SHEET BREAK SENSOR TAG' : 1을 제거\n",
    "# '(비정상)PICK-UP VACCUM 파괴 밸브 TAG' : 0을 제거\n",
    "train_df['(비정상)지절시 운전']=train_df['(비정상)지절시 운전'].astype(str)\n",
    "train_df['(비정상)카렌더 SHEET BREAK SENSOR TAG']=train_df['(비정상)카렌더 SHEET BREAK SENSOR TAG'].astype(str)\n",
    "train_df['(비정상)PICK-UP VACCUM 파괴 밸브 TAG']=train_df['(비정상)PICK-UP VACCUM 파괴 밸브 TAG'].astype(str)\n",
    "\n",
    "train_df=train_df[train_df['(비정상)지절시 운전'] == '0.0']   # & train_df == '0.0' & train_df['(비정상)PICK-UP VACCUM 파괴 밸브 TAG'] == '1.0'\n",
    "train_df=train_df[train_df['(비정상)카렌더 SHEET BREAK SENSOR TAG'] == '0.0']\n",
    "train_df=train_df[train_df['(비정상)PICK-UP VACCUM 파괴 밸브 TAG'] == '1.0']\n",
    "train_df.info()\n",
    "print('Train data :',train_df['datetime'].min(),' ~ ',train_df['datetime'].max(),'(',len(train_df),')')"
   ]
  },
  {
   "cell_type": "code",
   "execution_count": null,
   "metadata": {},
   "outputs": [],
   "source": [
    "train_features=train_df[['datetime',\n",
    "'TURNING ROLL 보류율',\n",
    "'사이로 백수 온도',\n",
    "'TURNING ROLL_WIRE 진공도 토탈',\n",
    "'TURNING ROLL 속도',\n",
    " 'CENTER NO2 ROLL 속도',\n",
    " '1군 DRYER 속도',\n",
    " 'NO8 DRYER 속도',\n",
    " 'CALENDER BTM ROLL속도',\n",
    " 'PM23_평량',\n",
    " 'PM23_릴속도']]\n",
    "train_target=train_df['초지_전력사용량']\n",
    "\n",
    "test_features=test_df[['datetime', \n",
    "'TURNING ROLL 보류율',\n",
    "'사이로 백수 온도',\n",
    "'TURNING ROLL_WIRE 진공도 토탈',\n",
    "'TURNING ROLL 속도',\n",
    " 'CENTER NO2 ROLL 속도',\n",
    " '1군 DRYER 속도',\n",
    " 'NO8 DRYER 속도',\n",
    " 'CALENDER BTM ROLL속도',\n",
    " 'PM23_평량',\n",
    " 'PM23_릴속도']]\n",
    "test_target=test_df['초지_전력사용량']"
   ]
  },
  {
   "cell_type": "code",
   "execution_count": null,
   "metadata": {},
   "outputs": [],
   "source": [
    "#2. datetime을 feature(mon,day,hour,min,weekday)화  \n",
    "train_features['mon']=train_features['datetime'].dt.month\n",
    "train_features['day']=train_features['datetime'].dt.day\n",
    "train_features['hour']=train_features['datetime'].dt.hour\n",
    "train_features['min']=train_features['datetime'].dt.minute\n",
    "train_features['weekday']=train_features['datetime'].dt.weekday\n",
    "train_features=train_features.drop(['datetime'], axis=1)"
   ]
  },
  {
   "cell_type": "code",
   "execution_count": 98,
   "metadata": {},
   "outputs": [],
   "source": [
    "# Convert to numpy arrays\n",
    "training_features = np.array(train_features)"
   ]
  },
  {
   "cell_type": "code",
   "execution_count": 99,
   "metadata": {},
   "outputs": [],
   "source": [
    "# Sklearn wants the labels as one-dimensional vectors\n",
    "training_targets = np.array(train_target).reshape((-1,))"
   ]
  },
  {
   "cell_type": "code",
   "execution_count": 100,
   "metadata": {},
   "outputs": [],
   "source": [
    "#scoring SMAPE\n",
    "from sklearn.metrics import make_scorer\n",
    "\n",
    "def SMAPE(y_true, y_pred):\n",
    "    return np.mean( (np.abs(y_true-y_pred)) / ((np.abs(y_true) + np.abs(y_pred))/2) ) * 100\n",
    "my_custom_scorer = make_scorer(SMAPE, greater_is_better=True)"
   ]
  },
  {
   "cell_type": "code",
   "execution_count": null,
   "metadata": {},
   "outputs": [],
   "source": [
    "# tpot_config = {\n",
    "#     'sklearn.multioutput.MultiOutputRegressor': {\n",
    "#         'estimator': {\n",
    "#             'sklearn.ensemble.ExtraTreesRegressor': {\n",
    "#                 'n_estimators': [100],\n",
    "#                 'max_features': np.arange(0.05, 1.01, 0.05)\n",
    "#             }\n",
    "#         }\n",
    "#     }\n",
    "# }"
   ]
  },
  {
   "cell_type": "code",
   "execution_count": 30,
   "metadata": {},
   "outputs": [],
   "source": [
    "# Create a tpot object with a few parameters\n",
    "tpot = TPOTRegressor(scoring = 'neg_mean_absolute_error',\n",
    "                    max_time_mins = 480, \n",
    "                    n_jobs = -1,\n",
    "                    verbosity = 2,\n",
    "                    cv = 5, config_dict= 'TPOT light') #'neg_mean_absolute_error' , generation=5,, my_custom_scorer tpot_config"
   ]
  },
  {
   "cell_type": "code",
   "execution_count": 31,
   "metadata": {},
   "outputs": [
    {
     "name": "stdout",
     "output_type": "stream",
     "text": [
      "Imputing missing values in feature set\n"
     ]
    },
    {
     "data": {
      "application/vnd.jupyter.widget-view+json": {
       "model_id": "2a595e23a1494112bc0b5a4e1d9c3f4a",
       "version_major": 2,
       "version_minor": 0
      },
      "text/plain": [
       "Optimization Progress:   0%|          | 0/100 [00:00<?, ?pipeline/s]"
      ]
     },
     "metadata": {},
     "output_type": "display_data"
    },
    {
     "name": "stdout",
     "output_type": "stream",
     "text": [
      "\n",
      "Generation 1 - Current best internal CV score: -60.28840047262271\n",
      "\n",
      "Generation 2 - Current best internal CV score: -60.17417907013944\n",
      "\n",
      "Generation 3 - Current best internal CV score: -60.17417907013944\n",
      "\n",
      "Generation 4 - Current best internal CV score: -60.14421394215286\n",
      "\n",
      "Generation 5 - Current best internal CV score: -59.78669741808974\n",
      "\n",
      "Generation 6 - Current best internal CV score: -59.63026427744062\n",
      "\n",
      "Generation 7 - Current best internal CV score: -59.63026427744062\n",
      "\n",
      "Generation 8 - Current best internal CV score: -59.63026427744062\n",
      "\n",
      "Generation 9 - Current best internal CV score: -59.45079107060783\n",
      "\n",
      "Generation 10 - Current best internal CV score: -59.45079107060783\n",
      "\n",
      "Generation 11 - Current best internal CV score: -59.45079107060783\n",
      "\n",
      "Generation 12 - Current best internal CV score: -59.45079107060783\n",
      "\n",
      "Generation 13 - Current best internal CV score: -58.9704247647501\n",
      "\n",
      "Generation 14 - Current best internal CV score: -58.9704247647501\n",
      "\n",
      "Generation 15 - Current best internal CV score: -58.9704247647501\n",
      "\n",
      "Generation 16 - Current best internal CV score: -58.9704247647501\n",
      "\n",
      "Generation 17 - Current best internal CV score: -58.9704247647501\n",
      "\n",
      "Generation 18 - Current best internal CV score: -58.9704247647501\n",
      "\n",
      "Generation 19 - Current best internal CV score: -58.88862898891991\n",
      "\n",
      "Generation 20 - Current best internal CV score: -58.88862898891991\n",
      "\n",
      "Generation 21 - Current best internal CV score: -58.88862898891991\n",
      "\n",
      "Generation 22 - Current best internal CV score: -58.73242063608874\n",
      "\n",
      "Generation 23 - Current best internal CV score: -58.70547669381422\n",
      "\n",
      "Generation 24 - Current best internal CV score: -58.70547669381422\n",
      "\n",
      "Generation 25 - Current best internal CV score: -58.546642951911075\n",
      "\n",
      "Generation 26 - Current best internal CV score: -58.546642951911075\n",
      "\n",
      "Generation 27 - Current best internal CV score: -58.266773405942715\n",
      "\n",
      "Generation 28 - Current best internal CV score: -58.266773405942715\n",
      "\n",
      "Generation 29 - Current best internal CV score: -58.266773405942715\n",
      "\n",
      "Generation 30 - Current best internal CV score: -58.266773405942715\n",
      "\n",
      "Generation 31 - Current best internal CV score: -58.266773405942715\n",
      "\n",
      "Generation 32 - Current best internal CV score: -58.266773405942715\n",
      "\n",
      "Generation 33 - Current best internal CV score: -58.266773405942715\n",
      "\n",
      "Generation 34 - Current best internal CV score: -58.266773405942715\n",
      "\n",
      "Generation 35 - Current best internal CV score: -58.07647397105832\n",
      "\n",
      "Generation 36 - Current best internal CV score: -58.07647397105832\n",
      "\n",
      "Generation 37 - Current best internal CV score: -58.07647397105832\n",
      "\n",
      "Generation 38 - Current best internal CV score: -58.07647397105832\n",
      "\n",
      "Generation 39 - Current best internal CV score: -58.076473971058306\n",
      "\n",
      "Generation 40 - Current best internal CV score: -58.076473971058306\n",
      "\n",
      "Generation 41 - Current best internal CV score: -58.076473971058306\n",
      "\n",
      "Generation 42 - Current best internal CV score: -58.076473971058306\n",
      "\n",
      "Generation 43 - Current best internal CV score: -58.0313012575621\n",
      "\n",
      "Generation 44 - Current best internal CV score: -58.0313012575621\n",
      "\n",
      "Generation 45 - Current best internal CV score: -58.0313012575621\n",
      "\n",
      "Generation 46 - Current best internal CV score: -58.0313012575621\n",
      "\n",
      "Generation 47 - Current best internal CV score: -58.0313012575621\n",
      "\n",
      "Generation 48 - Current best internal CV score: -58.0313012575621\n",
      "\n",
      "Generation 49 - Current best internal CV score: -58.0313012575621\n",
      "\n",
      "Generation 50 - Current best internal CV score: -58.0313012575621\n",
      "\n",
      "Generation 51 - Current best internal CV score: -58.0313012575621\n",
      "\n",
      "Generation 52 - Current best internal CV score: -58.0313012575621\n",
      "\n",
      "Generation 53 - Current best internal CV score: -58.0313012575621\n",
      "\n",
      "Generation 54 - Current best internal CV score: -58.0313012575621\n",
      "\n",
      "Generation 55 - Current best internal CV score: -58.0313012575621\n",
      "\n",
      "Generation 56 - Current best internal CV score: -58.02721308535736\n",
      "\n",
      "Generation 57 - Current best internal CV score: -58.02721308535736\n",
      "\n",
      "Generation 58 - Current best internal CV score: -58.02721308535736\n",
      "\n",
      "Generation 59 - Current best internal CV score: -58.02721308535736\n",
      "\n",
      "Generation 60 - Current best internal CV score: -58.02721308535736\n",
      "\n",
      "Generation 61 - Current best internal CV score: -58.02721308535736\n",
      "\n",
      "Generation 62 - Current best internal CV score: -58.02721308535736\n",
      "\n",
      "Generation 63 - Current best internal CV score: -58.02721308535736\n",
      "\n",
      "Generation 64 - Current best internal CV score: -58.02721308535736\n",
      "\n",
      "Generation 65 - Current best internal CV score: -58.02721308535736\n",
      "\n",
      "Generation 66 - Current best internal CV score: -58.02721308535736\n",
      "\n",
      "Generation 67 - Current best internal CV score: -58.02721308535736\n",
      "\n",
      "Generation 68 - Current best internal CV score: -58.02721308535736\n",
      "\n",
      "Generation 69 - Current best internal CV score: -58.02721308535736\n",
      "\n",
      "Generation 70 - Current best internal CV score: -58.02721308535736\n",
      "\n",
      "Generation 71 - Current best internal CV score: -58.02721308535736\n",
      "\n",
      "Generation 72 - Current best internal CV score: -58.02721308535736\n",
      "\n",
      "Generation 73 - Current best internal CV score: -58.02721308535736\n",
      "\n",
      "Generation 74 - Current best internal CV score: -58.02721308535736\n",
      "\n",
      "Generation 75 - Current best internal CV score: -58.02721308535736\n",
      "\n",
      "Generation 76 - Current best internal CV score: -58.02721308535736\n",
      "\n",
      "Generation 77 - Current best internal CV score: -58.02721308535736\n",
      "\n",
      "Generation 78 - Current best internal CV score: -58.02721308535736\n",
      "\n",
      "Generation 79 - Current best internal CV score: -58.02721308535736\n",
      "\n",
      "Generation 80 - Current best internal CV score: -58.02721308535736\n",
      "\n",
      "Generation 81 - Current best internal CV score: -58.02721308535736\n",
      "\n",
      "Generation 82 - Current best internal CV score: -58.02721308535736\n",
      "\n",
      "Generation 83 - Current best internal CV score: -58.02721308535736\n",
      "\n",
      "Generation 84 - Current best internal CV score: -58.02721308535736\n",
      "\n",
      "Generation 85 - Current best internal CV score: -58.027213085357346\n",
      "\n",
      "Generation 86 - Current best internal CV score: -58.027213085357346\n",
      "\n",
      "Generation 87 - Current best internal CV score: -58.027213085357346\n",
      "\n",
      "Generation 88 - Current best internal CV score: -58.027213085357346\n",
      "\n",
      "Generation 89 - Current best internal CV score: -58.027213085357346\n",
      "\n",
      "Generation 90 - Current best internal CV score: -58.027213085357346\n",
      "\n",
      "Generation 91 - Current best internal CV score: -58.027213085357346\n",
      "\n",
      "Generation 92 - Current best internal CV score: -58.027213085357346\n",
      "\n",
      "Generation 93 - Current best internal CV score: -58.027213085357346\n",
      "\n",
      "Generation 94 - Current best internal CV score: -58.027213085357346\n",
      "\n",
      "Generation 95 - Current best internal CV score: -58.027213085357346\n",
      "\n",
      "Generation 96 - Current best internal CV score: -58.027213085357346\n",
      "\n",
      "Generation 97 - Current best internal CV score: -58.027213085357346\n",
      "\n",
      "Generation 98 - Current best internal CV score: -58.027213085357346\n",
      "\n",
      "Generation 99 - Current best internal CV score: -58.027213085357346\n",
      "\n",
      "Generation 100 - Current best internal CV score: -58.027213085357346\n",
      "\n",
      "Best pipeline: ElasticNetCV(ZeroCount(LinearSVR(ZeroCount(RobustScaler(MinMaxScaler(input_matrix))), C=0.0001, dual=True, epsilon=0.1, loss=epsilon_insensitive, tol=0.001)), l1_ratio=1.0, tol=0.1)\n"
     ]
    },
    {
     "data": {
      "text/html": [
       "<style>#sk-container-id-2 {color: black;background-color: white;}#sk-container-id-2 pre{padding: 0;}#sk-container-id-2 div.sk-toggleable {background-color: white;}#sk-container-id-2 label.sk-toggleable__label {cursor: pointer;display: block;width: 100%;margin-bottom: 0;padding: 0.3em;box-sizing: border-box;text-align: center;}#sk-container-id-2 label.sk-toggleable__label-arrow:before {content: \"▸\";float: left;margin-right: 0.25em;color: #696969;}#sk-container-id-2 label.sk-toggleable__label-arrow:hover:before {color: black;}#sk-container-id-2 div.sk-estimator:hover label.sk-toggleable__label-arrow:before {color: black;}#sk-container-id-2 div.sk-toggleable__content {max-height: 0;max-width: 0;overflow: hidden;text-align: left;background-color: #f0f8ff;}#sk-container-id-2 div.sk-toggleable__content pre {margin: 0.2em;color: black;border-radius: 0.25em;background-color: #f0f8ff;}#sk-container-id-2 input.sk-toggleable__control:checked~div.sk-toggleable__content {max-height: 200px;max-width: 100%;overflow: auto;}#sk-container-id-2 input.sk-toggleable__control:checked~label.sk-toggleable__label-arrow:before {content: \"▾\";}#sk-container-id-2 div.sk-estimator input.sk-toggleable__control:checked~label.sk-toggleable__label {background-color: #d4ebff;}#sk-container-id-2 div.sk-label input.sk-toggleable__control:checked~label.sk-toggleable__label {background-color: #d4ebff;}#sk-container-id-2 input.sk-hidden--visually {border: 0;clip: rect(1px 1px 1px 1px);clip: rect(1px, 1px, 1px, 1px);height: 1px;margin: -1px;overflow: hidden;padding: 0;position: absolute;width: 1px;}#sk-container-id-2 div.sk-estimator {font-family: monospace;background-color: #f0f8ff;border: 1px dotted black;border-radius: 0.25em;box-sizing: border-box;margin-bottom: 0.5em;}#sk-container-id-2 div.sk-estimator:hover {background-color: #d4ebff;}#sk-container-id-2 div.sk-parallel-item::after {content: \"\";width: 100%;border-bottom: 1px solid gray;flex-grow: 1;}#sk-container-id-2 div.sk-label:hover label.sk-toggleable__label {background-color: #d4ebff;}#sk-container-id-2 div.sk-serial::before {content: \"\";position: absolute;border-left: 1px solid gray;box-sizing: border-box;top: 0;bottom: 0;left: 50%;z-index: 0;}#sk-container-id-2 div.sk-serial {display: flex;flex-direction: column;align-items: center;background-color: white;padding-right: 0.2em;padding-left: 0.2em;position: relative;}#sk-container-id-2 div.sk-item {position: relative;z-index: 1;}#sk-container-id-2 div.sk-parallel {display: flex;align-items: stretch;justify-content: center;background-color: white;position: relative;}#sk-container-id-2 div.sk-item::before, #sk-container-id-2 div.sk-parallel-item::before {content: \"\";position: absolute;border-left: 1px solid gray;box-sizing: border-box;top: 0;bottom: 0;left: 50%;z-index: -1;}#sk-container-id-2 div.sk-parallel-item {display: flex;flex-direction: column;z-index: 1;position: relative;background-color: white;}#sk-container-id-2 div.sk-parallel-item:first-child::after {align-self: flex-end;width: 50%;}#sk-container-id-2 div.sk-parallel-item:last-child::after {align-self: flex-start;width: 50%;}#sk-container-id-2 div.sk-parallel-item:only-child::after {width: 0;}#sk-container-id-2 div.sk-dashed-wrapped {border: 1px dashed gray;margin: 0 0.4em 0.5em 0.4em;box-sizing: border-box;padding-bottom: 0.4em;background-color: white;}#sk-container-id-2 div.sk-label label {font-family: monospace;font-weight: bold;display: inline-block;line-height: 1.2em;}#sk-container-id-2 div.sk-label-container {text-align: center;}#sk-container-id-2 div.sk-container {/* jupyter's `normalize.less` sets `[hidden] { display: none; }` but bootstrap.min.css set `[hidden] { display: none !important; }` so we also need the `!important` here to be able to override the default hidden behavior on the sphinx rendered scikit-learn.org. See: https://github.com/scikit-learn/scikit-learn/issues/21755 */display: inline-block !important;position: relative;}#sk-container-id-2 div.sk-text-repr-fallback {display: none;}</style><div id=\"sk-container-id-2\" class=\"sk-top-container\"><div class=\"sk-text-repr-fallback\"><pre>TPOTRegressor(config_dict=&#x27;TPOT light&#x27;, max_time_mins=480, n_jobs=-1,\n",
       "              scoring=&#x27;neg_mean_absolute_error&#x27;, verbosity=2)</pre><b>In a Jupyter environment, please rerun this cell to show the HTML representation or trust the notebook. <br />On GitHub, the HTML representation is unable to render, please try loading this page with nbviewer.org.</b></div><div class=\"sk-container\" hidden><div class=\"sk-item\"><div class=\"sk-estimator sk-toggleable\"><input class=\"sk-toggleable__control sk-hidden--visually\" id=\"sk-estimator-id-2\" type=\"checkbox\" checked><label for=\"sk-estimator-id-2\" class=\"sk-toggleable__label sk-toggleable__label-arrow\">TPOTRegressor</label><div class=\"sk-toggleable__content\"><pre>TPOTRegressor(config_dict=&#x27;TPOT light&#x27;, max_time_mins=480, n_jobs=-1,\n",
       "              scoring=&#x27;neg_mean_absolute_error&#x27;, verbosity=2)</pre></div></div></div></div></div>"
      ],
      "text/plain": [
       "TPOTRegressor(config_dict='TPOT light', max_time_mins=480, n_jobs=-1,\n",
       "              scoring='neg_mean_absolute_error', verbosity=2)"
      ]
     },
     "execution_count": 31,
     "metadata": {},
     "output_type": "execute_result"
    }
   ],
   "source": [
    "# Fit the tpot model on the training data\n",
    "tpot.fit(training_features, training_targets)   # 0708 scoring : neg_mean_absolute_error / config_dict='TPOT light'"
   ]
  },
  {
   "cell_type": "code",
   "execution_count": 32,
   "metadata": {},
   "outputs": [
    {
     "name": "stdout",
     "output_type": "stream",
     "text": [
      "<class 'pandas.core.frame.DataFrame'>\n",
      "Int64Index: 43 entries, 4323 to 4365\n",
      "Data columns (total 24 columns):\n",
      " #   Column                           Non-Null Count  Dtype         \n",
      "---  ------                           --------------  -----         \n",
      " 0   datetime                         43 non-null     datetime64[ns]\n",
      " 1   초지_전력사용량                         43 non-null     float64       \n",
      " 2   Press_전력사용량                      43 non-null     float64       \n",
      " 3   Constant_전력사용량                   43 non-null     float64       \n",
      " 4   Wire_전력사용량                       43 non-null     float64       \n",
      " 5   AIR_전력사용량                        43 non-null     float64       \n",
      " 6   Size_전력사용량                       43 non-null     float64       \n",
      " 7   Calender_전력사용량                   43 non-null     float64       \n",
      " 8   Drive_전력사용량                      43 non-null     float64       \n",
      " 9   Pre-Dryer_전력사용량                  43 non-null     float64       \n",
      " 10  After-Dryer_전력사용량                43 non-null     float64       \n",
      " 11  (비정상)지절시 운전                      43 non-null     object        \n",
      " 12  (비정상)카렌더 SHEET BREAK SENSOR TAG  43 non-null     object        \n",
      " 13  (비정상)PICK-UP VACCUM 파괴 밸브 TAG    43 non-null     object        \n",
      " 14  TURNING ROLL 보류율                 43 non-null     float64       \n",
      " 15  사이로 백수 온도                        43 non-null     float64       \n",
      " 16  TURNING ROLL_WIRE 진공도 토탈         43 non-null     float64       \n",
      " 17  TURNING ROLL 속도                  43 non-null     float64       \n",
      " 18  CENTER NO2 ROLL 속도               43 non-null     float64       \n",
      " 19  1군 DRYER 속도                      43 non-null     float64       \n",
      " 20  NO8 DRYER 속도                     43 non-null     float64       \n",
      " 21  CALENDER BTM ROLL속도              43 non-null     float64       \n",
      " 22  PM23_평량                          43 non-null     float64       \n",
      " 23  PM23_릴속도                         43 non-null     float64       \n",
      "dtypes: datetime64[ns](1), float64(20), object(3)\n",
      "memory usage: 8.4+ KB\n",
      "Test data : 2022-06-10 00:45:00  ~  2022-06-10 11:15:00 ( 43 )\n"
     ]
    },
    {
     "name": "stderr",
     "output_type": "stream",
     "text": [
      "C:\\Users\\USER\\AppData\\Local\\Temp\\ipykernel_22824\\2979332968.py:6: SettingWithCopyWarning: \n",
      "A value is trying to be set on a copy of a slice from a DataFrame.\n",
      "Try using .loc[row_indexer,col_indexer] = value instead\n",
      "\n",
      "See the caveats in the documentation: https://pandas.pydata.org/pandas-docs/stable/user_guide/indexing.html#returning-a-view-versus-a-copy\n",
      "  test_df['(비정상)지절시 운전']=test_df['(비정상)지절시 운전'].astype(str)\n",
      "C:\\Users\\USER\\AppData\\Local\\Temp\\ipykernel_22824\\2979332968.py:7: SettingWithCopyWarning: \n",
      "A value is trying to be set on a copy of a slice from a DataFrame.\n",
      "Try using .loc[row_indexer,col_indexer] = value instead\n",
      "\n",
      "See the caveats in the documentation: https://pandas.pydata.org/pandas-docs/stable/user_guide/indexing.html#returning-a-view-versus-a-copy\n",
      "  test_df['(비정상)카렌더 SHEET BREAK SENSOR TAG']=test_df['(비정상)카렌더 SHEET BREAK SENSOR TAG'].astype(str)\n",
      "C:\\Users\\USER\\AppData\\Local\\Temp\\ipykernel_22824\\2979332968.py:8: SettingWithCopyWarning: \n",
      "A value is trying to be set on a copy of a slice from a DataFrame.\n",
      "Try using .loc[row_indexer,col_indexer] = value instead\n",
      "\n",
      "See the caveats in the documentation: https://pandas.pydata.org/pandas-docs/stable/user_guide/indexing.html#returning-a-view-versus-a-copy\n",
      "  test_df['(비정상)PICK-UP VACCUM 파괴 밸브 TAG']=test_df['(비정상)PICK-UP VACCUM 파괴 밸브 TAG'].astype(str)\n"
     ]
    }
   ],
   "source": [
    "#test data도 동일하게 처리\\\n",
    "#1.  (비정상) column downtime 제거   \n",
    "# '(비정상)지절시 운전' : 1을 제거\n",
    "# '(비정상)카렌더 SHEET BREAK SENSOR TAG' : 1을 제거\n",
    "# '(비정상)PICK-UP VACCUM 파괴 밸브 TAG' : 0을 제거\n",
    "test_df['(비정상)지절시 운전']=test_df['(비정상)지절시 운전'].astype(str)\n",
    "test_df['(비정상)카렌더 SHEET BREAK SENSOR TAG']=test_df['(비정상)카렌더 SHEET BREAK SENSOR TAG'].astype(str)\n",
    "test_df['(비정상)PICK-UP VACCUM 파괴 밸브 TAG']=test_df['(비정상)PICK-UP VACCUM 파괴 밸브 TAG'].astype(str)\n",
    "\n",
    "test_df=test_df[test_df['(비정상)지절시 운전'] == '0.0']   \n",
    "test_df=test_df[test_df['(비정상)카렌더 SHEET BREAK SENSOR TAG'] == '0.0']\n",
    "test_df=test_df[test_df['(비정상)PICK-UP VACCUM 파괴 밸브 TAG'] == '1.0']\n",
    "test_df.info()\n",
    "print('Test data :',test_df['datetime'].min(),' ~ ',test_df['datetime'].max(),'(',len(test_df),')')\n",
    "\n",
    "#2. datetime을 feature(mon,day,hour,min,weekday)화  \n",
    "test_features['mon']=test_features['datetime'].dt.month\n",
    "test_features['day']=test_features['datetime'].dt.day\n",
    "test_features['hour']=test_features['datetime'].dt.hour\n",
    "test_features['min']=test_features['datetime'].dt.minute\n",
    "test_features['weekday']=test_features['datetime'].dt.weekday\n",
    "test_features=test_features.drop(['datetime'], axis=1)\n",
    "\n",
    "testing_features = np.array(test_features)\n",
    "testing_targets = np.array(test_target).reshape((-1,))"
   ]
  },
  {
   "cell_type": "code",
   "execution_count": 33,
   "metadata": {},
   "outputs": [
    {
     "name": "stdout",
     "output_type": "stream",
     "text": [
      "Imputing missing values in feature set\n",
      "-53.00426965919511\n"
     ]
    },
    {
     "name": "stderr",
     "output_type": "stream",
     "text": [
      "c:\\Users\\USER\\AppData\\Local\\Programs\\Python\\Python39\\lib\\site-packages\\sklearn\\metrics\\_scorer.py:765: FutureWarning: sklearn.metrics.SCORERS is deprecated and will be removed in v1.3. Please use sklearn.metrics.get_scorer_names to get a list of available scorers and sklearn.metrics.get_metric to get scorer.\n",
      "  warnings.warn(\n"
     ]
    }
   ],
   "source": [
    "print(tpot.score(testing_features, testing_targets))"
   ]
  },
  {
   "cell_type": "code",
   "execution_count": 34,
   "metadata": {},
   "outputs": [],
   "source": [
    "# Export the pipeline as a python script file\n",
    "tpot.export('C:/Users/USER/Desktop/Side/AutoML/tpot_exported_pipeline_regression_hansol_choji_220708.py')"
   ]
  },
  {
   "cell_type": "markdown",
   "metadata": {},
   "source": [
    "model train\n"
   ]
  },
  {
   "cell_type": "code",
   "execution_count": 89,
   "metadata": {},
   "outputs": [],
   "source": [
    "import pandas as pd\n",
    "data=pd.read_csv('C:/Users/USER/Desktop/진행중/FEMS/datamart/HS_DataMart_v1.0.csv',encoding='cp949')"
   ]
  },
  {
   "cell_type": "code",
   "execution_count": 40,
   "metadata": {},
   "outputs": [],
   "source": [
    "import numpy as np\n",
    "import pandas as pd\n",
    "from sklearn.linear_model import ElasticNetCV\n",
    "from sklearn.model_selection import train_test_split\n",
    "from sklearn.pipeline import make_pipeline, make_union\n",
    "from sklearn.preprocessing import MinMaxScaler, RobustScaler\n",
    "from sklearn.svm import LinearSVR\n",
    "from tpot.builtins import StackingEstimator, ZeroCount\n",
    "from sklearn.impute import SimpleImputer\n",
    "\n",
    "# # NOTE: Make sure that the outcome column is labeled 'target' in the data file\n",
    "# tpot_data = pd.read_csv('C:/Users/USER/Desktop/진행중/FEMS/datamart/HS_DataMart_v1.0.csv',encoding='cp949', dtype=np.float64)\n",
    "# features = tpot_data.drop('target', axis=1)\n",
    "# training_features, testing_features, training_target, testing_target = \\\n",
    "#             train_test_split(features, tpot_data['target'], random_state=None)\n",
    "\n",
    "imputer = SimpleImputer(strategy=\"median\")\n",
    "imputer.fit(training_features)\n",
    "training_features = imputer.transform(training_features)\n",
    "testing_features = imputer.transform(testing_features)\n",
    "\n",
    "# Average CV score on the training set was: -58.027213085357346\n",
    "exported_pipeline = make_pipeline(\n",
    "    MinMaxScaler(),\n",
    "    RobustScaler(),\n",
    "    ZeroCount(),\n",
    "    StackingEstimator(estimator=LinearSVR(C=0.0001, dual=True, epsilon=0.1, loss=\"epsilon_insensitive\", tol=0.001)),\n",
    "    ZeroCount(),\n",
    "    ElasticNetCV(l1_ratio=1.0, tol=0.1)\n",
    ")\n",
    "\n",
    "model=exported_pipeline.fit(training_features, training_targets)\n",
    "results = exported_pipeline.predict(testing_features)"
   ]
  },
  {
   "cell_type": "code",
   "execution_count": 48,
   "metadata": {},
   "outputs": [
    {
     "data": {
      "text/html": [
       "<style>#sk-container-id-3 {color: black;background-color: white;}#sk-container-id-3 pre{padding: 0;}#sk-container-id-3 div.sk-toggleable {background-color: white;}#sk-container-id-3 label.sk-toggleable__label {cursor: pointer;display: block;width: 100%;margin-bottom: 0;padding: 0.3em;box-sizing: border-box;text-align: center;}#sk-container-id-3 label.sk-toggleable__label-arrow:before {content: \"▸\";float: left;margin-right: 0.25em;color: #696969;}#sk-container-id-3 label.sk-toggleable__label-arrow:hover:before {color: black;}#sk-container-id-3 div.sk-estimator:hover label.sk-toggleable__label-arrow:before {color: black;}#sk-container-id-3 div.sk-toggleable__content {max-height: 0;max-width: 0;overflow: hidden;text-align: left;background-color: #f0f8ff;}#sk-container-id-3 div.sk-toggleable__content pre {margin: 0.2em;color: black;border-radius: 0.25em;background-color: #f0f8ff;}#sk-container-id-3 input.sk-toggleable__control:checked~div.sk-toggleable__content {max-height: 200px;max-width: 100%;overflow: auto;}#sk-container-id-3 input.sk-toggleable__control:checked~label.sk-toggleable__label-arrow:before {content: \"▾\";}#sk-container-id-3 div.sk-estimator input.sk-toggleable__control:checked~label.sk-toggleable__label {background-color: #d4ebff;}#sk-container-id-3 div.sk-label input.sk-toggleable__control:checked~label.sk-toggleable__label {background-color: #d4ebff;}#sk-container-id-3 input.sk-hidden--visually {border: 0;clip: rect(1px 1px 1px 1px);clip: rect(1px, 1px, 1px, 1px);height: 1px;margin: -1px;overflow: hidden;padding: 0;position: absolute;width: 1px;}#sk-container-id-3 div.sk-estimator {font-family: monospace;background-color: #f0f8ff;border: 1px dotted black;border-radius: 0.25em;box-sizing: border-box;margin-bottom: 0.5em;}#sk-container-id-3 div.sk-estimator:hover {background-color: #d4ebff;}#sk-container-id-3 div.sk-parallel-item::after {content: \"\";width: 100%;border-bottom: 1px solid gray;flex-grow: 1;}#sk-container-id-3 div.sk-label:hover label.sk-toggleable__label {background-color: #d4ebff;}#sk-container-id-3 div.sk-serial::before {content: \"\";position: absolute;border-left: 1px solid gray;box-sizing: border-box;top: 0;bottom: 0;left: 50%;z-index: 0;}#sk-container-id-3 div.sk-serial {display: flex;flex-direction: column;align-items: center;background-color: white;padding-right: 0.2em;padding-left: 0.2em;position: relative;}#sk-container-id-3 div.sk-item {position: relative;z-index: 1;}#sk-container-id-3 div.sk-parallel {display: flex;align-items: stretch;justify-content: center;background-color: white;position: relative;}#sk-container-id-3 div.sk-item::before, #sk-container-id-3 div.sk-parallel-item::before {content: \"\";position: absolute;border-left: 1px solid gray;box-sizing: border-box;top: 0;bottom: 0;left: 50%;z-index: -1;}#sk-container-id-3 div.sk-parallel-item {display: flex;flex-direction: column;z-index: 1;position: relative;background-color: white;}#sk-container-id-3 div.sk-parallel-item:first-child::after {align-self: flex-end;width: 50%;}#sk-container-id-3 div.sk-parallel-item:last-child::after {align-self: flex-start;width: 50%;}#sk-container-id-3 div.sk-parallel-item:only-child::after {width: 0;}#sk-container-id-3 div.sk-dashed-wrapped {border: 1px dashed gray;margin: 0 0.4em 0.5em 0.4em;box-sizing: border-box;padding-bottom: 0.4em;background-color: white;}#sk-container-id-3 div.sk-label label {font-family: monospace;font-weight: bold;display: inline-block;line-height: 1.2em;}#sk-container-id-3 div.sk-label-container {text-align: center;}#sk-container-id-3 div.sk-container {/* jupyter's `normalize.less` sets `[hidden] { display: none; }` but bootstrap.min.css set `[hidden] { display: none !important; }` so we also need the `!important` here to be able to override the default hidden behavior on the sphinx rendered scikit-learn.org. See: https://github.com/scikit-learn/scikit-learn/issues/21755 */display: inline-block !important;position: relative;}#sk-container-id-3 div.sk-text-repr-fallback {display: none;}</style><div id=\"sk-container-id-3\" class=\"sk-top-container\"><div class=\"sk-text-repr-fallback\"><pre>Pipeline(steps=[(&#x27;minmaxscaler&#x27;, MinMaxScaler()),\n",
       "                (&#x27;robustscaler&#x27;, RobustScaler()), (&#x27;zerocount-1&#x27;, ZeroCount()),\n",
       "                (&#x27;stackingestimator&#x27;,\n",
       "                 StackingEstimator(estimator=LinearSVR(C=0.0001, epsilon=0.1,\n",
       "                                                       tol=0.001))),\n",
       "                (&#x27;zerocount-2&#x27;, ZeroCount()),\n",
       "                (&#x27;elasticnetcv&#x27;, ElasticNetCV(l1_ratio=1.0, tol=0.1))])</pre><b>In a Jupyter environment, please rerun this cell to show the HTML representation or trust the notebook. <br />On GitHub, the HTML representation is unable to render, please try loading this page with nbviewer.org.</b></div><div class=\"sk-container\" hidden><div class=\"sk-item sk-dashed-wrapped\"><div class=\"sk-label-container\"><div class=\"sk-label sk-toggleable\"><input class=\"sk-toggleable__control sk-hidden--visually\" id=\"sk-estimator-id-3\" type=\"checkbox\" ><label for=\"sk-estimator-id-3\" class=\"sk-toggleable__label sk-toggleable__label-arrow\">Pipeline</label><div class=\"sk-toggleable__content\"><pre>Pipeline(steps=[(&#x27;minmaxscaler&#x27;, MinMaxScaler()),\n",
       "                (&#x27;robustscaler&#x27;, RobustScaler()), (&#x27;zerocount-1&#x27;, ZeroCount()),\n",
       "                (&#x27;stackingestimator&#x27;,\n",
       "                 StackingEstimator(estimator=LinearSVR(C=0.0001, epsilon=0.1,\n",
       "                                                       tol=0.001))),\n",
       "                (&#x27;zerocount-2&#x27;, ZeroCount()),\n",
       "                (&#x27;elasticnetcv&#x27;, ElasticNetCV(l1_ratio=1.0, tol=0.1))])</pre></div></div></div><div class=\"sk-serial\"><div class=\"sk-item\"><div class=\"sk-estimator sk-toggleable\"><input class=\"sk-toggleable__control sk-hidden--visually\" id=\"sk-estimator-id-4\" type=\"checkbox\" ><label for=\"sk-estimator-id-4\" class=\"sk-toggleable__label sk-toggleable__label-arrow\">MinMaxScaler</label><div class=\"sk-toggleable__content\"><pre>MinMaxScaler()</pre></div></div></div><div class=\"sk-item\"><div class=\"sk-estimator sk-toggleable\"><input class=\"sk-toggleable__control sk-hidden--visually\" id=\"sk-estimator-id-5\" type=\"checkbox\" ><label for=\"sk-estimator-id-5\" class=\"sk-toggleable__label sk-toggleable__label-arrow\">RobustScaler</label><div class=\"sk-toggleable__content\"><pre>RobustScaler()</pre></div></div></div><div class=\"sk-item\"><div class=\"sk-estimator sk-toggleable\"><input class=\"sk-toggleable__control sk-hidden--visually\" id=\"sk-estimator-id-6\" type=\"checkbox\" ><label for=\"sk-estimator-id-6\" class=\"sk-toggleable__label sk-toggleable__label-arrow\">ZeroCount</label><div class=\"sk-toggleable__content\"><pre>ZeroCount()</pre></div></div></div><div class=\"sk-item sk-dashed-wrapped\"><div class=\"sk-label-container\"><div class=\"sk-label sk-toggleable\"><input class=\"sk-toggleable__control sk-hidden--visually\" id=\"sk-estimator-id-7\" type=\"checkbox\" ><label for=\"sk-estimator-id-7\" class=\"sk-toggleable__label sk-toggleable__label-arrow\">stackingestimator: StackingEstimator</label><div class=\"sk-toggleable__content\"><pre>StackingEstimator(estimator=LinearSVR(C=0.0001, epsilon=0.1, tol=0.001))</pre></div></div></div><div class=\"sk-parallel\"><div class=\"sk-parallel-item\"><div class=\"sk-item\"><div class=\"sk-label-container\"><div class=\"sk-label sk-toggleable\"><input class=\"sk-toggleable__control sk-hidden--visually\" id=\"sk-estimator-id-8\" type=\"checkbox\" ><label for=\"sk-estimator-id-8\" class=\"sk-toggleable__label sk-toggleable__label-arrow\">estimator: LinearSVR</label><div class=\"sk-toggleable__content\"><pre>LinearSVR(C=0.0001, epsilon=0.1, tol=0.001)</pre></div></div></div><div class=\"sk-serial\"><div class=\"sk-item\"><div class=\"sk-estimator sk-toggleable\"><input class=\"sk-toggleable__control sk-hidden--visually\" id=\"sk-estimator-id-9\" type=\"checkbox\" ><label for=\"sk-estimator-id-9\" class=\"sk-toggleable__label sk-toggleable__label-arrow\">LinearSVR</label><div class=\"sk-toggleable__content\"><pre>LinearSVR(C=0.0001, epsilon=0.1, tol=0.001)</pre></div></div></div></div></div></div></div></div><div class=\"sk-item\"><div class=\"sk-estimator sk-toggleable\"><input class=\"sk-toggleable__control sk-hidden--visually\" id=\"sk-estimator-id-10\" type=\"checkbox\" ><label for=\"sk-estimator-id-10\" class=\"sk-toggleable__label sk-toggleable__label-arrow\">ZeroCount</label><div class=\"sk-toggleable__content\"><pre>ZeroCount()</pre></div></div></div><div class=\"sk-item\"><div class=\"sk-estimator sk-toggleable\"><input class=\"sk-toggleable__control sk-hidden--visually\" id=\"sk-estimator-id-11\" type=\"checkbox\" ><label for=\"sk-estimator-id-11\" class=\"sk-toggleable__label sk-toggleable__label-arrow\">ElasticNetCV</label><div class=\"sk-toggleable__content\"><pre>ElasticNetCV(l1_ratio=1.0, tol=0.1)</pre></div></div></div></div></div></div></div>"
      ],
      "text/plain": [
       "Pipeline(steps=[('minmaxscaler', MinMaxScaler()),\n",
       "                ('robustscaler', RobustScaler()), ('zerocount-1', ZeroCount()),\n",
       "                ('stackingestimator',\n",
       "                 StackingEstimator(estimator=LinearSVR(C=0.0001, epsilon=0.1,\n",
       "                                                       tol=0.001))),\n",
       "                ('zerocount-2', ZeroCount()),\n",
       "                ('elasticnetcv', ElasticNetCV(l1_ratio=1.0, tol=0.1))])"
      ]
     },
     "execution_count": 48,
     "metadata": {},
     "output_type": "execute_result"
    }
   ],
   "source": [
    "model"
   ]
  },
  {
   "cell_type": "code",
   "execution_count": 43,
   "metadata": {},
   "outputs": [],
   "source": [
    "# model save to disk\n",
    "import pickle\n",
    "filename = 'C:/Users/USER/Desktop/Side/AutoML/TPOT_regressor_model_hansol_choji_220708.sav'\n",
    "pickle.dump(model, open(filename, 'wb'))"
   ]
  },
  {
   "cell_type": "code",
   "execution_count": 45,
   "metadata": {},
   "outputs": [],
   "source": [
    "# load the model from disk\n",
    "loaded_model = pickle.load(open(filename, 'rb'))\n",
    "results_f = loaded_model.predict(testing_features)\n",
    "\n"
   ]
  },
  {
   "cell_type": "code",
   "execution_count": 47,
   "metadata": {},
   "outputs": [
    {
     "data": {
      "text/plain": [
       "2.67029492999626"
      ]
     },
     "execution_count": 47,
     "metadata": {},
     "output_type": "execute_result"
    }
   ],
   "source": [
    "def SMAPE(y_true, y_pred):\n",
    "    return np.mean( (np.abs(y_true-y_pred)) / ((np.abs(y_true) + np.abs(y_pred))/2) ) * 100\n",
    "SMAPE(testing_targets,results_f)"
   ]
  },
  {
   "cell_type": "code",
   "execution_count": null,
   "metadata": {},
   "outputs": [],
   "source": [
    "#result 시각화\n",
    "dd=test_df[['datetime','초지_전력사용량']]\n",
    "dd=dd.reset_index()\n",
    "dd['predict']=pd.DataFrame(results_f)\n"
   ]
  },
  {
   "cell_type": "code",
   "execution_count": 66,
   "metadata": {},
   "outputs": [
    {
     "data": {
      "text/plain": [
       "Text(0.5, 0, 'Date')"
      ]
     },
     "execution_count": 66,
     "metadata": {},
     "output_type": "execute_result"
    },
    {
     "name": "stderr",
     "output_type": "stream",
     "text": [
      "c:\\Users\\USER\\AppData\\Local\\Programs\\Python\\Python39\\lib\\site-packages\\IPython\\core\\pylabtools.py:151: UserWarning: Glyph 49324 (\\N{HANGUL SYLLABLE SA}) missing from current font.\n",
      "  fig.canvas.print_figure(bytes_io, **kw)\n",
      "c:\\Users\\USER\\AppData\\Local\\Programs\\Python\\Python39\\lib\\site-packages\\IPython\\core\\pylabtools.py:151: UserWarning: Glyph 50857 (\\N{HANGUL SYLLABLE YONG}) missing from current font.\n",
      "  fig.canvas.print_figure(bytes_io, **kw)\n",
      "c:\\Users\\USER\\AppData\\Local\\Programs\\Python\\Python39\\lib\\site-packages\\IPython\\core\\pylabtools.py:151: UserWarning: Glyph 47049 (\\N{HANGUL SYLLABLE RYANG}) missing from current font.\n",
      "  fig.canvas.print_figure(bytes_io, **kw)\n"
     ]
    },
    {
     "data": {
      "image/png": "[encoded data removed]",
      "text/plain": [
       "<Figure size 1440x720 with 1 Axes>"
      ]
     },
     "metadata": {
      "needs_background": "light"
     },
     "output_type": "display_data"
    }
   ],
   "source": [
    "  import matplotlib.pyplot as plt\n",
    "  plt.figure(figsize=(20,10))\n",
    "  plt.plot(dd.index,dd['predict'], 'b')\n",
    "  plt.plot(dd.index,dd['초지_전력사용량'], 'r')\n",
    "  plt.ylabel('사용량', color='blue')\n",
    "  plt.title('compare predict & real')\n",
    "  plt.xlabel('Date')"
   ]
  },
  {
   "cell_type": "markdown",
   "metadata": {},
   "source": [
    "all options\n"
   ]
  },
  {
   "cell_type": "code",
   "execution_count": 84,
   "metadata": {},
   "outputs": [],
   "source": [
    "# Create a tpot object with a few parameters\n",
    "tpot_all = TPOTRegressor(scoring = 'neg_mean_absolute_error',\n",
    "                    n_jobs = -1,\n",
    "                    verbosity = 2,\n",
    "                    cv = 5) "
   ]
  },
  {
   "cell_type": "code",
   "execution_count": 85,
   "metadata": {},
   "outputs": [
    {
     "name": "stdout",
     "output_type": "stream",
     "text": [
      "Imputing missing values in feature set\n"
     ]
    },
    {
     "data": {
      "application/vnd.jupyter.widget-view+json": {
       "model_id": "272e99859f174d39a465583642735d07",
       "version_major": 2,
       "version_minor": 0
      },
      "text/plain": [
       "Optimization Progress:   0%|          | 0/10100 [00:00<?, ?pipeline/s]"
      ]
     },
     "metadata": {},
     "output_type": "display_data"
    },
    {
     "name": "stdout",
     "output_type": "stream",
     "text": [
      "\n",
      "Generation 1 - Current best internal CV score: -60.10725421736788\n",
      "\n",
      "Generation 2 - Current best internal CV score: -59.91632661857009\n",
      "\n",
      "Generation 3 - Current best internal CV score: -59.90045553118006\n",
      "\n",
      "Generation 4 - Current best internal CV score: -59.06608497126457\n",
      "\n",
      "Generation 5 - Current best internal CV score: -59.06608497126457\n",
      "\n",
      "Generation 6 - Current best internal CV score: -59.001572009137064\n",
      "\n",
      "Generation 7 - Current best internal CV score: -58.47547070162805\n",
      "\n",
      "Generation 8 - Current best internal CV score: -58.47547070162805\n",
      "\n",
      "Generation 9 - Current best internal CV score: -58.47547070162805\n",
      "\n",
      "Generation 10 - Current best internal CV score: -58.47547070162805\n",
      "\n",
      "Generation 11 - Current best internal CV score: -58.47295415464863\n",
      "\n",
      "Generation 12 - Current best internal CV score: -58.46292292755326\n",
      "\n",
      "Generation 13 - Current best internal CV score: -58.46292292755326\n",
      "\n",
      "Generation 14 - Current best internal CV score: -58.459802951680956\n",
      "\n",
      "Generation 15 - Current best internal CV score: -58.3857144707945\n",
      "\n",
      "Generation 16 - Current best internal CV score: -58.24733331143341\n",
      "\n",
      "Generation 17 - Current best internal CV score: -58.24733331143341\n",
      "\n",
      "Generation 18 - Current best internal CV score: -58.24733331143341\n",
      "\n",
      "Generation 19 - Current best internal CV score: -58.242779965174165\n",
      "\n",
      "Generation 20 - Current best internal CV score: -58.22514423690094\n",
      "\n",
      "Generation 21 - Current best internal CV score: -58.22514423690094\n",
      "\n",
      "Generation 22 - Current best internal CV score: -58.22514423690094\n",
      "\n",
      "Generation 23 - Current best internal CV score: -58.154158529447\n",
      "\n",
      "Generation 24 - Current best internal CV score: -58.154158529447\n",
      "\n",
      "Generation 25 - Current best internal CV score: -58.052102911888085\n",
      "\n",
      "Generation 26 - Current best internal CV score: -58.052102911888085\n",
      "\n",
      "Generation 27 - Current best internal CV score: -58.052102911888085\n",
      "\n",
      "Generation 28 - Current best internal CV score: -58.052102911888085\n",
      "\n",
      "Generation 29 - Current best internal CV score: -58.052102911888085\n",
      "\n",
      "Generation 30 - Current best internal CV score: -58.052102911888085\n",
      "\n",
      "Generation 31 - Current best internal CV score: -58.052102911888085\n",
      "\n",
      "Generation 32 - Current best internal CV score: -58.052102911888085\n",
      "\n",
      "Generation 33 - Current best internal CV score: -58.052102911888085\n",
      "\n",
      "Generation 34 - Current best internal CV score: -58.052102911888085\n",
      "\n",
      "Generation 35 - Current best internal CV score: -58.052102911888085\n",
      "\n",
      "Generation 36 - Current best internal CV score: -58.02328196528779\n",
      "\n",
      "Generation 37 - Current best internal CV score: -58.02328196528779\n",
      "\n",
      "Generation 38 - Current best internal CV score: -58.02328196528779\n",
      "\n",
      "Generation 39 - Current best internal CV score: -58.02328196528779\n",
      "\n",
      "Generation 40 - Current best internal CV score: -58.02328196528779\n",
      "\n",
      "Generation 41 - Current best internal CV score: -58.02328196528779\n",
      "\n",
      "Generation 42 - Current best internal CV score: -58.02328196528779\n",
      "\n",
      "Generation 43 - Current best internal CV score: -57.92663685017552\n",
      "\n",
      "Generation 44 - Current best internal CV score: -57.92663685017552\n",
      "\n",
      "Generation 45 - Current best internal CV score: -57.92663685017552\n",
      "\n",
      "Generation 46 - Current best internal CV score: -57.92663685017552\n",
      "\n",
      "Generation 47 - Current best internal CV score: -57.92663685017552\n",
      "\n",
      "Generation 48 - Current best internal CV score: -57.92663685017552\n",
      "\n",
      "Generation 49 - Current best internal CV score: -57.92663685017552\n",
      "\n",
      "Generation 50 - Current best internal CV score: -57.92663685017552\n",
      "\n",
      "Generation 51 - Current best internal CV score: -57.92663685017552\n",
      "\n",
      "Generation 52 - Current best internal CV score: -57.92663685017552\n",
      "\n",
      "Generation 53 - Current best internal CV score: -57.92663685017552\n",
      "\n",
      "Generation 54 - Current best internal CV score: -57.74154519861288\n",
      "\n",
      "Generation 55 - Current best internal CV score: -57.74154519861288\n",
      "\n",
      "Generation 56 - Current best internal CV score: -57.74154519861288\n",
      "\n",
      "Generation 57 - Current best internal CV score: -57.74154519861288\n",
      "\n",
      "Generation 58 - Current best internal CV score: -57.74154519861288\n",
      "\n",
      "Generation 59 - Current best internal CV score: -57.74154519861288\n",
      "\n",
      "Generation 60 - Current best internal CV score: -57.74154519861288\n",
      "\n",
      "Generation 61 - Current best internal CV score: -57.74154519861288\n",
      "\n",
      "Generation 62 - Current best internal CV score: -57.74154519861288\n",
      "\n",
      "Generation 63 - Current best internal CV score: -57.74154519861288\n",
      "\n",
      "Generation 64 - Current best internal CV score: -57.74154519861288\n",
      "\n",
      "Generation 65 - Current best internal CV score: -57.74154519861288\n",
      "\n",
      "Generation 66 - Current best internal CV score: -57.74154519861288\n",
      "\n",
      "Generation 67 - Current best internal CV score: -57.74154519861288\n",
      "\n",
      "Generation 68 - Current best internal CV score: -57.74154519861288\n",
      "\n",
      "Generation 69 - Current best internal CV score: -57.74154519861288\n",
      "\n",
      "Generation 70 - Current best internal CV score: -57.74154519861288\n",
      "\n",
      "Generation 71 - Current best internal CV score: -57.74154519861288\n",
      "\n",
      "Generation 72 - Current best internal CV score: -57.74154519861288\n",
      "\n",
      "Generation 73 - Current best internal CV score: -57.74154519861288\n",
      "\n",
      "Generation 74 - Current best internal CV score: -57.74154519861288\n",
      "\n",
      "Generation 75 - Current best internal CV score: -57.74154519861288\n",
      "\n",
      "Generation 76 - Current best internal CV score: -57.74154519861288\n",
      "\n",
      "Generation 77 - Current best internal CV score: -57.74154519861288\n",
      "\n",
      "Generation 78 - Current best internal CV score: -57.74154519861288\n",
      "\n",
      "Generation 79 - Current best internal CV score: -57.74154519861288\n",
      "\n",
      "Generation 80 - Current best internal CV score: -57.74154519861288\n",
      "\n",
      "Generation 81 - Current best internal CV score: -57.74154519861288\n",
      "\n",
      "Generation 82 - Current best internal CV score: -57.74154519861288\n",
      "\n",
      "Generation 83 - Current best internal CV score: -57.74154519861288\n",
      "\n",
      "Generation 84 - Current best internal CV score: -57.74154519861288\n",
      "\n",
      "Generation 85 - Current best internal CV score: -57.74154519861288\n",
      "\n",
      "Generation 86 - Current best internal CV score: -57.74154519861288\n",
      "\n",
      "Generation 87 - Current best internal CV score: -57.74154519861288\n",
      "\n",
      "Generation 88 - Current best internal CV score: -57.74154519861288\n",
      "\n",
      "Generation 89 - Current best internal CV score: -57.74154519861288\n",
      "\n",
      "Generation 90 - Current best internal CV score: -57.74154519861288\n",
      "\n",
      "Generation 91 - Current best internal CV score: -57.74154519861288\n",
      "\n",
      "Generation 92 - Current best internal CV score: -57.74154519861288\n",
      "\n",
      "Generation 93 - Current best internal CV score: -57.74154519861288\n",
      "\n",
      "Generation 94 - Current best internal CV score: -57.74154519861288\n",
      "\n",
      "Generation 95 - Current best internal CV score: -57.74154519861288\n",
      "\n",
      "Generation 96 - Current best internal CV score: -57.74154519861288\n",
      "\n",
      "Generation 97 - Current best internal CV score: -57.74154519861288\n",
      "\n",
      "Generation 98 - Current best internal CV score: -57.74154519861288\n",
      "\n",
      "Generation 99 - Current best internal CV score: -57.74154519861288\n",
      "\n",
      "Generation 100 - Current best internal CV score: -57.74154519861288\n",
      "\n",
      "Best pipeline: XGBRegressor(SGDRegressor(LassoLarsCV(MinMaxScaler(SelectFwe(SelectPercentile(input_matrix, percentile=49), alpha=0.043000000000000003)), normalize=True), alpha=0.01, eta0=0.01, fit_intercept=True, l1_ratio=1.0, learning_rate=invscaling, loss=squared_loss, penalty=elasticnet, power_t=1.0), learning_rate=0.1, max_depth=1, min_child_weight=5, n_estimators=100, n_jobs=1, objective=reg:squarederror, subsample=0.6500000000000001, verbosity=0)\n"
     ]
    },
    {
     "data": {
      "text/html": [
       "<style>#sk-container-id-4 {color: black;background-color: white;}#sk-container-id-4 pre{padding: 0;}#sk-container-id-4 div.sk-toggleable {background-color: white;}#sk-container-id-4 label.sk-toggleable__label {cursor: pointer;display: block;width: 100%;margin-bottom: 0;padding: 0.3em;box-sizing: border-box;text-align: center;}#sk-container-id-4 label.sk-toggleable__label-arrow:before {content: \"▸\";float: left;margin-right: 0.25em;color: #696969;}#sk-container-id-4 label.sk-toggleable__label-arrow:hover:before {color: black;}#sk-container-id-4 div.sk-estimator:hover label.sk-toggleable__label-arrow:before {color: black;}#sk-container-id-4 div.sk-toggleable__content {max-height: 0;max-width: 0;overflow: hidden;text-align: left;background-color: #f0f8ff;}#sk-container-id-4 div.sk-toggleable__content pre {margin: 0.2em;color: black;border-radius: 0.25em;background-color: #f0f8ff;}#sk-container-id-4 input.sk-toggleable__control:checked~div.sk-toggleable__content {max-height: 200px;max-width: 100%;overflow: auto;}#sk-container-id-4 input.sk-toggleable__control:checked~label.sk-toggleable__label-arrow:before {content: \"▾\";}#sk-container-id-4 div.sk-estimator input.sk-toggleable__control:checked~label.sk-toggleable__label {background-color: #d4ebff;}#sk-container-id-4 div.sk-label input.sk-toggleable__control:checked~label.sk-toggleable__label {background-color: #d4ebff;}#sk-container-id-4 input.sk-hidden--visually {border: 0;clip: rect(1px 1px 1px 1px);clip: rect(1px, 1px, 1px, 1px);height: 1px;margin: -1px;overflow: hidden;padding: 0;position: absolute;width: 1px;}#sk-container-id-4 div.sk-estimator {font-family: monospace;background-color: #f0f8ff;border: 1px dotted black;border-radius: 0.25em;box-sizing: border-box;margin-bottom: 0.5em;}#sk-container-id-4 div.sk-estimator:hover {background-color: #d4ebff;}#sk-container-id-4 div.sk-parallel-item::after {content: \"\";width: 100%;border-bottom: 1px solid gray;flex-grow: 1;}#sk-container-id-4 div.sk-label:hover label.sk-toggleable__label {background-color: #d4ebff;}#sk-container-id-4 div.sk-serial::before {content: \"\";position: absolute;border-left: 1px solid gray;box-sizing: border-box;top: 0;bottom: 0;left: 50%;z-index: 0;}#sk-container-id-4 div.sk-serial {display: flex;flex-direction: column;align-items: center;background-color: white;padding-right: 0.2em;padding-left: 0.2em;position: relative;}#sk-container-id-4 div.sk-item {position: relative;z-index: 1;}#sk-container-id-4 div.sk-parallel {display: flex;align-items: stretch;justify-content: center;background-color: white;position: relative;}#sk-container-id-4 div.sk-item::before, #sk-container-id-4 div.sk-parallel-item::before {content: \"\";position: absolute;border-left: 1px solid gray;box-sizing: border-box;top: 0;bottom: 0;left: 50%;z-index: -1;}#sk-container-id-4 div.sk-parallel-item {display: flex;flex-direction: column;z-index: 1;position: relative;background-color: white;}#sk-container-id-4 div.sk-parallel-item:first-child::after {align-self: flex-end;width: 50%;}#sk-container-id-4 div.sk-parallel-item:last-child::after {align-self: flex-start;width: 50%;}#sk-container-id-4 div.sk-parallel-item:only-child::after {width: 0;}#sk-container-id-4 div.sk-dashed-wrapped {border: 1px dashed gray;margin: 0 0.4em 0.5em 0.4em;box-sizing: border-box;padding-bottom: 0.4em;background-color: white;}#sk-container-id-4 div.sk-label label {font-family: monospace;font-weight: bold;display: inline-block;line-height: 1.2em;}#sk-container-id-4 div.sk-label-container {text-align: center;}#sk-container-id-4 div.sk-container {/* jupyter's `normalize.less` sets `[hidden] { display: none; }` but bootstrap.min.css set `[hidden] { display: none !important; }` so we also need the `!important` here to be able to override the default hidden behavior on the sphinx rendered scikit-learn.org. See: https://github.com/scikit-learn/scikit-learn/issues/21755 */display: inline-block !important;position: relative;}#sk-container-id-4 div.sk-text-repr-fallback {display: none;}</style><div id=\"sk-container-id-4\" class=\"sk-top-container\"><div class=\"sk-text-repr-fallback\"><pre>TPOTRegressor(n_jobs=-1, scoring=&#x27;neg_mean_absolute_error&#x27;, verbosity=2)</pre><b>In a Jupyter environment, please rerun this cell to show the HTML representation or trust the notebook. <br />On GitHub, the HTML representation is unable to render, please try loading this page with nbviewer.org.</b></div><div class=\"sk-container\" hidden><div class=\"sk-item\"><div class=\"sk-estimator sk-toggleable\"><input class=\"sk-toggleable__control sk-hidden--visually\" id=\"sk-estimator-id-12\" type=\"checkbox\" checked><label for=\"sk-estimator-id-12\" class=\"sk-toggleable__label sk-toggleable__label-arrow\">TPOTRegressor</label><div class=\"sk-toggleable__content\"><pre>TPOTRegressor(n_jobs=-1, scoring=&#x27;neg_mean_absolute_error&#x27;, verbosity=2)</pre></div></div></div></div></div>"
      ],
      "text/plain": [
       "TPOTRegressor(n_jobs=-1, scoring='neg_mean_absolute_error', verbosity=2)"
      ]
     },
     "execution_count": 85,
     "metadata": {},
     "output_type": "execute_result"
    }
   ],
   "source": [
    "# Fit the tpot model on the training data\n",
    "tpot_all.fit(training_features, training_targets)   # 0708 scoring : neg_mean_absolute_error "
   ]
  },
  {
   "cell_type": "code",
   "execution_count": 86,
   "metadata": {},
   "outputs": [
    {
     "name": "stdout",
     "output_type": "stream",
     "text": [
      "<class 'pandas.core.frame.DataFrame'>\n",
      "Int64Index: 43 entries, 4323 to 4365\n",
      "Data columns (total 24 columns):\n",
      " #   Column                           Non-Null Count  Dtype         \n",
      "---  ------                           --------------  -----         \n",
      " 0   datetime                         43 non-null     datetime64[ns]\n",
      " 1   초지_전력사용량                         43 non-null     float64       \n",
      " 2   Press_전력사용량                      43 non-null     float64       \n",
      " 3   Constant_전력사용량                   43 non-null     float64       \n",
      " 4   Wire_전력사용량                       43 non-null     float64       \n",
      " 5   AIR_전력사용량                        43 non-null     float64       \n",
      " 6   Size_전력사용량                       43 non-null     float64       \n",
      " 7   Calender_전력사용량                   43 non-null     float64       \n",
      " 8   Drive_전력사용량                      43 non-null     float64       \n",
      " 9   Pre-Dryer_전력사용량                  43 non-null     float64       \n",
      " 10  After-Dryer_전력사용량                43 non-null     float64       \n",
      " 11  (비정상)지절시 운전                      43 non-null     object        \n",
      " 12  (비정상)카렌더 SHEET BREAK SENSOR TAG  43 non-null     object        \n",
      " 13  (비정상)PICK-UP VACCUM 파괴 밸브 TAG    43 non-null     object        \n",
      " 14  TURNING ROLL 보류율                 43 non-null     float64       \n",
      " 15  사이로 백수 온도                        43 non-null     float64       \n",
      " 16  TURNING ROLL_WIRE 진공도 토탈         43 non-null     float64       \n",
      " 17  TURNING ROLL 속도                  43 non-null     float64       \n",
      " 18  CENTER NO2 ROLL 속도               43 non-null     float64       \n",
      " 19  1군 DRYER 속도                      43 non-null     float64       \n",
      " 20  NO8 DRYER 속도                     43 non-null     float64       \n",
      " 21  CALENDER BTM ROLL속도              43 non-null     float64       \n",
      " 22  PM23_평량                          43 non-null     float64       \n",
      " 23  PM23_릴속도                         43 non-null     float64       \n",
      "dtypes: datetime64[ns](1), float64(20), object(3)\n",
      "memory usage: 8.4+ KB\n",
      "Test data : 2022-06-10 00:45:00  ~  2022-06-10 11:15:00 ( 43 )\n"
     ]
    },
    {
     "name": "stderr",
     "output_type": "stream",
     "text": [
      "C:\\Users\\USER\\AppData\\Local\\Temp\\ipykernel_22824\\2979332968.py:6: SettingWithCopyWarning: \n",
      "A value is trying to be set on a copy of a slice from a DataFrame.\n",
      "Try using .loc[row_indexer,col_indexer] = value instead\n",
      "\n",
      "See the caveats in the documentation: https://pandas.pydata.org/pandas-docs/stable/user_guide/indexing.html#returning-a-view-versus-a-copy\n",
      "  test_df['(비정상)지절시 운전']=test_df['(비정상)지절시 운전'].astype(str)\n",
      "C:\\Users\\USER\\AppData\\Local\\Temp\\ipykernel_22824\\2979332968.py:7: SettingWithCopyWarning: \n",
      "A value is trying to be set on a copy of a slice from a DataFrame.\n",
      "Try using .loc[row_indexer,col_indexer] = value instead\n",
      "\n",
      "See the caveats in the documentation: https://pandas.pydata.org/pandas-docs/stable/user_guide/indexing.html#returning-a-view-versus-a-copy\n",
      "  test_df['(비정상)카렌더 SHEET BREAK SENSOR TAG']=test_df['(비정상)카렌더 SHEET BREAK SENSOR TAG'].astype(str)\n",
      "C:\\Users\\USER\\AppData\\Local\\Temp\\ipykernel_22824\\2979332968.py:8: SettingWithCopyWarning: \n",
      "A value is trying to be set on a copy of a slice from a DataFrame.\n",
      "Try using .loc[row_indexer,col_indexer] = value instead\n",
      "\n",
      "See the caveats in the documentation: https://pandas.pydata.org/pandas-docs/stable/user_guide/indexing.html#returning-a-view-versus-a-copy\n",
      "  test_df['(비정상)PICK-UP VACCUM 파괴 밸브 TAG']=test_df['(비정상)PICK-UP VACCUM 파괴 밸브 TAG'].astype(str)\n",
      "C:\\Users\\USER\\AppData\\Local\\Temp\\ipykernel_22824\\2979332968.py:17: SettingWithCopyWarning: \n",
      "A value is trying to be set on a copy of a slice from a DataFrame.\n",
      "Try using .loc[row_indexer,col_indexer] = value instead\n",
      "\n",
      "See the caveats in the documentation: https://pandas.pydata.org/pandas-docs/stable/user_guide/indexing.html#returning-a-view-versus-a-copy\n",
      "  test_features['mon']=test_features['datetime'].dt.month\n",
      "C:\\Users\\USER\\AppData\\Local\\Temp\\ipykernel_22824\\2979332968.py:18: SettingWithCopyWarning: \n",
      "A value is trying to be set on a copy of a slice from a DataFrame.\n",
      "Try using .loc[row_indexer,col_indexer] = value instead\n",
      "\n",
      "See the caveats in the documentation: https://pandas.pydata.org/pandas-docs/stable/user_guide/indexing.html#returning-a-view-versus-a-copy\n",
      "  test_features['day']=test_features['datetime'].dt.day\n"
     ]
    }
   ],
   "source": [
    "#test data도 동일하게 처리\\\n",
    "#1.  (비정상) column downtime 제거   \n",
    "# '(비정상)지절시 운전' : 1을 제거\n",
    "# '(비정상)카렌더 SHEET BREAK SENSOR TAG' : 1을 제거\n",
    "# '(비정상)PICK-UP VACCUM 파괴 밸브 TAG' : 0을 제거\n",
    "test_df['(비정상)지절시 운전']=test_df['(비정상)지절시 운전'].astype(str)\n",
    "test_df['(비정상)카렌더 SHEET BREAK SENSOR TAG']=test_df['(비정상)카렌더 SHEET BREAK SENSOR TAG'].astype(str)\n",
    "test_df['(비정상)PICK-UP VACCUM 파괴 밸브 TAG']=test_df['(비정상)PICK-UP VACCUM 파괴 밸브 TAG'].astype(str)\n",
    "\n",
    "test_df=test_df[test_df['(비정상)지절시 운전'] == '0.0']   \n",
    "test_df=test_df[test_df['(비정상)카렌더 SHEET BREAK SENSOR TAG'] == '0.0']\n",
    "test_df=test_df[test_df['(비정상)PICK-UP VACCUM 파괴 밸브 TAG'] == '1.0']\n",
    "test_df.info()\n",
    "print('Test data :',test_df['datetime'].min(),' ~ ',test_df['datetime'].max(),'(',len(test_df),')')\n",
    "\n",
    "#2. datetime을 feature(mon,day,hour,min,weekday)화  \n",
    "test_features['mon']=test_features['datetime'].dt.month\n",
    "test_features['day']=test_features['datetime'].dt.day\n",
    "test_features['hour']=test_features['datetime'].dt.hour\n",
    "test_features['min']=test_features['datetime'].dt.minute\n",
    "test_features['weekday']=test_features['datetime'].dt.weekday\n",
    "test_features=test_features.drop(['datetime'], axis=1)\n",
    "\n",
    "testing_features = np.array(test_features)\n",
    "testing_targets = np.array(test_target).reshape((-1,))"
   ]
  },
  {
   "cell_type": "code",
   "execution_count": 87,
   "metadata": {},
   "outputs": [
    {
     "name": "stdout",
     "output_type": "stream",
     "text": [
      "Imputing missing values in feature set\n",
      "-51.17235873909885\n"
     ]
    },
    {
     "name": "stderr",
     "output_type": "stream",
     "text": [
      "c:\\Users\\USER\\AppData\\Local\\Programs\\Python\\Python39\\lib\\site-packages\\sklearn\\metrics\\_scorer.py:765: FutureWarning: sklearn.metrics.SCORERS is deprecated and will be removed in v1.3. Please use sklearn.metrics.get_scorer_names to get a list of available scorers and sklearn.metrics.get_metric to get scorer.\n",
      "  warnings.warn(\n"
     ]
    }
   ],
   "source": [
    "print(tpot_all.score(testing_features, testing_targets))"
   ]
  },
  {
   "cell_type": "code",
   "execution_count": 88,
   "metadata": {},
   "outputs": [],
   "source": [
    "# Export the pipeline as a python script file\n",
    "tpot_all.export('C:/Users/USER/Desktop/Side/AutoML/tpot_exported_pipeline_regression_hansol_choji_220708_all.py')"
   ]
  },
  {
   "cell_type": "markdown",
   "metadata": {},
   "source": [
    "pipeline학습\n"
   ]
  },
  {
   "cell_type": "code",
   "execution_count": 102,
   "metadata": {},
   "outputs": [
    {
     "name": "stderr",
     "output_type": "stream",
     "text": [
      "c:\\Users\\USER\\AppData\\Local\\Programs\\Python\\Python39\\lib\\site-packages\\sklearn\\linear_model\\_stochastic_gradient.py:165: FutureWarning: The loss 'squared_loss' was deprecated in v1.0 and will be removed in version 1.2. Use `loss='squared_error'` which is equivalent.\n",
      "  warnings.warn(\n"
     ]
    }
   ],
   "source": [
    "import numpy as np\n",
    "import pandas as pd\n",
    "from sklearn.feature_selection import SelectFwe, SelectPercentile, f_regression\n",
    "from sklearn.linear_model import LassoLarsCV, SGDRegressor\n",
    "from sklearn.model_selection import train_test_split\n",
    "from sklearn.pipeline import make_pipeline, make_union\n",
    "from sklearn.preprocessing import MinMaxScaler\n",
    "from tpot.builtins import StackingEstimator\n",
    "from xgboost import XGBRegressor\n",
    "from sklearn.impute import SimpleImputer\n",
    "\n",
    "# # NOTE: Make sure that the outcome column is labeled 'target' in the data file\n",
    "# tpot_data = pd.read_csv('PATH/TO/DATA/FILE', sep='COLUMN_SEPARATOR', dtype=np.float64)\n",
    "# features = tpot_data.drop('target', axis=1)\n",
    "# training_features, testing_features, training_target, testing_target = \\\n",
    "#             train_test_split(features, tpot_data['target'], random_state=None)\n",
    "\n",
    "imputer = SimpleImputer(strategy=\"median\")\n",
    "imputer.fit(training_features)\n",
    "training_features = imputer.transform(training_features)\n",
    "testing_features = imputer.transform(testing_features)\n",
    "\n",
    "# Average CV score on the training set was: -57.74154519861288\n",
    "exported_pipeline = make_pipeline(\n",
    "    SelectPercentile(score_func=f_regression, percentile=49),\n",
    "    SelectFwe(score_func=f_regression, alpha=0.043000000000000003),\n",
    "    MinMaxScaler(),\n",
    "    StackingEstimator(estimator=LassoLarsCV(normalize=True)),\n",
    "    StackingEstimator(estimator=SGDRegressor(alpha=0.01, eta0=0.01, fit_intercept=True, l1_ratio=1.0, learning_rate=\"invscaling\", loss=\"squared_loss\", penalty=\"elasticnet\", power_t=1.0)),\n",
    "    XGBRegressor(learning_rate=0.1, max_depth=1, min_child_weight=5, n_estimators=100, n_jobs=1, objective=\"reg:squarederror\", subsample=0.6500000000000001, verbosity=0)\n",
    ")\n",
    "\n",
    "model=exported_pipeline.fit(training_features, training_targets)\n",
    "results = exported_pipeline.predict(testing_features)\n"
   ]
  },
  {
   "cell_type": "code",
   "execution_count": 108,
   "metadata": {},
   "outputs": [
    {
     "data": {
      "text/html": [
       "<style>#sk-container-id-5 {color: black;background-color: white;}#sk-container-id-5 pre{padding: 0;}#sk-container-id-5 div.sk-toggleable {background-color: white;}#sk-container-id-5 label.sk-toggleable__label {cursor: pointer;display: block;width: 100%;margin-bottom: 0;padding: 0.3em;box-sizing: border-box;text-align: center;}#sk-container-id-5 label.sk-toggleable__label-arrow:before {content: \"▸\";float: left;margin-right: 0.25em;color: #696969;}#sk-container-id-5 label.sk-toggleable__label-arrow:hover:before {color: black;}#sk-container-id-5 div.sk-estimator:hover label.sk-toggleable__label-arrow:before {color: black;}#sk-container-id-5 div.sk-toggleable__content {max-height: 0;max-width: 0;overflow: hidden;text-align: left;background-color: #f0f8ff;}#sk-container-id-5 div.sk-toggleable__content pre {margin: 0.2em;color: black;border-radius: 0.25em;background-color: #f0f8ff;}#sk-container-id-5 input.sk-toggleable__control:checked~div.sk-toggleable__content {max-height: 200px;max-width: 100%;overflow: auto;}#sk-container-id-5 input.sk-toggleable__control:checked~label.sk-toggleable__label-arrow:before {content: \"▾\";}#sk-container-id-5 div.sk-estimator input.sk-toggleable__control:checked~label.sk-toggleable__label {background-color: #d4ebff;}#sk-container-id-5 div.sk-label input.sk-toggleable__control:checked~label.sk-toggleable__label {background-color: #d4ebff;}#sk-container-id-5 input.sk-hidden--visually {border: 0;clip: rect(1px 1px 1px 1px);clip: rect(1px, 1px, 1px, 1px);height: 1px;margin: -1px;overflow: hidden;padding: 0;position: absolute;width: 1px;}#sk-container-id-5 div.sk-estimator {font-family: monospace;background-color: #f0f8ff;border: 1px dotted black;border-radius: 0.25em;box-sizing: border-box;margin-bottom: 0.5em;}#sk-container-id-5 div.sk-estimator:hover {background-color: #d4ebff;}#sk-container-id-5 div.sk-parallel-item::after {content: \"\";width: 100%;border-bottom: 1px solid gray;flex-grow: 1;}#sk-container-id-5 div.sk-label:hover label.sk-toggleable__label {background-color: #d4ebff;}#sk-container-id-5 div.sk-serial::before {content: \"\";position: absolute;border-left: 1px solid gray;box-sizing: border-box;top: 0;bottom: 0;left: 50%;z-index: 0;}#sk-container-id-5 div.sk-serial {display: flex;flex-direction: column;align-items: center;background-color: white;padding-right: 0.2em;padding-left: 0.2em;position: relative;}#sk-container-id-5 div.sk-item {position: relative;z-index: 1;}#sk-container-id-5 div.sk-parallel {display: flex;align-items: stretch;justify-content: center;background-color: white;position: relative;}#sk-container-id-5 div.sk-item::before, #sk-container-id-5 div.sk-parallel-item::before {content: \"\";position: absolute;border-left: 1px solid gray;box-sizing: border-box;top: 0;bottom: 0;left: 50%;z-index: -1;}#sk-container-id-5 div.sk-parallel-item {display: flex;flex-direction: column;z-index: 1;position: relative;background-color: white;}#sk-container-id-5 div.sk-parallel-item:first-child::after {align-self: flex-end;width: 50%;}#sk-container-id-5 div.sk-parallel-item:last-child::after {align-self: flex-start;width: 50%;}#sk-container-id-5 div.sk-parallel-item:only-child::after {width: 0;}#sk-container-id-5 div.sk-dashed-wrapped {border: 1px dashed gray;margin: 0 0.4em 0.5em 0.4em;box-sizing: border-box;padding-bottom: 0.4em;background-color: white;}#sk-container-id-5 div.sk-label label {font-family: monospace;font-weight: bold;display: inline-block;line-height: 1.2em;}#sk-container-id-5 div.sk-label-container {text-align: center;}#sk-container-id-5 div.sk-container {/* jupyter's `normalize.less` sets `[hidden] { display: none; }` but bootstrap.min.css set `[hidden] { display: none !important; }` so we also need the `!important` here to be able to override the default hidden behavior on the sphinx rendered scikit-learn.org. See: https://github.com/scikit-learn/scikit-learn/issues/21755 */display: inline-block !important;position: relative;}#sk-container-id-5 div.sk-text-repr-fallback {display: none;}</style><div id=\"sk-container-id-5\" class=\"sk-top-container\"><div class=\"sk-text-repr-fallback\"><pre>Pipeline(steps=[(&#x27;selectpercentile&#x27;,\n",
       "                 SelectPercentile(percentile=49,\n",
       "                                  score_func=&lt;function f_regression at 0x000002834B8DF820&gt;)),\n",
       "                (&#x27;selectfwe&#x27;,\n",
       "                 SelectFwe(alpha=0.043000000000000003,\n",
       "                           score_func=&lt;function f_regression at 0x000002834B8DF820&gt;)),\n",
       "                (&#x27;minmaxscaler&#x27;, MinMaxScaler()),\n",
       "                (&#x27;stackingestimator-1&#x27;,\n",
       "                 StackingEstimator(estimator=LassoLarsCV(normalize=True))),\n",
       "                (&#x27;stacki...\n",
       "                              enable_categorical=False, eval_metric=None,\n",
       "                              gamma=0, gpu_id=-1, grow_policy=&#x27;depthwise&#x27;,\n",
       "                              importance_type=None, interaction_constraints=&#x27;&#x27;,\n",
       "                              learning_rate=0.1, max_bin=256,\n",
       "                              max_cat_to_onehot=4, max_delta_step=0,\n",
       "                              max_depth=1, max_leaves=0, min_child_weight=5,\n",
       "                              missing=nan, monotone_constraints=&#x27;()&#x27;,\n",
       "                              n_estimators=100, n_jobs=1, num_parallel_tree=1,\n",
       "                              predictor=&#x27;auto&#x27;, random_state=0, reg_alpha=0,\n",
       "                              reg_lambda=1, ...))])</pre><b>In a Jupyter environment, please rerun this cell to show the HTML representation or trust the notebook. <br />On GitHub, the HTML representation is unable to render, please try loading this page with nbviewer.org.</b></div><div class=\"sk-container\" hidden><div class=\"sk-item sk-dashed-wrapped\"><div class=\"sk-label-container\"><div class=\"sk-label sk-toggleable\"><input class=\"sk-toggleable__control sk-hidden--visually\" id=\"sk-estimator-id-13\" type=\"checkbox\" ><label for=\"sk-estimator-id-13\" class=\"sk-toggleable__label sk-toggleable__label-arrow\">Pipeline</label><div class=\"sk-toggleable__content\"><pre>Pipeline(steps=[(&#x27;selectpercentile&#x27;,\n",
       "                 SelectPercentile(percentile=49,\n",
       "                                  score_func=&lt;function f_regression at 0x000002834B8DF820&gt;)),\n",
       "                (&#x27;selectfwe&#x27;,\n",
       "                 SelectFwe(alpha=0.043000000000000003,\n",
       "                           score_func=&lt;function f_regression at 0x000002834B8DF820&gt;)),\n",
       "                (&#x27;minmaxscaler&#x27;, MinMaxScaler()),\n",
       "                (&#x27;stackingestimator-1&#x27;,\n",
       "                 StackingEstimator(estimator=LassoLarsCV(normalize=True))),\n",
       "                (&#x27;stacki...\n",
       "                              enable_categorical=False, eval_metric=None,\n",
       "                              gamma=0, gpu_id=-1, grow_policy=&#x27;depthwise&#x27;,\n",
       "                              importance_type=None, interaction_constraints=&#x27;&#x27;,\n",
       "                              learning_rate=0.1, max_bin=256,\n",
       "                              max_cat_to_onehot=4, max_delta_step=0,\n",
       "                              max_depth=1, max_leaves=0, min_child_weight=5,\n",
       "                              missing=nan, monotone_constraints=&#x27;()&#x27;,\n",
       "                              n_estimators=100, n_jobs=1, num_parallel_tree=1,\n",
       "                              predictor=&#x27;auto&#x27;, random_state=0, reg_alpha=0,\n",
       "                              reg_lambda=1, ...))])</pre></div></div></div><div class=\"sk-serial\"><div class=\"sk-item\"><div class=\"sk-estimator sk-toggleable\"><input class=\"sk-toggleable__control sk-hidden--visually\" id=\"sk-estimator-id-14\" type=\"checkbox\" ><label for=\"sk-estimator-id-14\" class=\"sk-toggleable__label sk-toggleable__label-arrow\">SelectPercentile</label><div class=\"sk-toggleable__content\"><pre>SelectPercentile(percentile=49,\n",
       "                 score_func=&lt;function f_regression at 0x000002834B8DF820&gt;)</pre></div></div></div><div class=\"sk-item\"><div class=\"sk-estimator sk-toggleable\"><input class=\"sk-toggleable__control sk-hidden--visually\" id=\"sk-estimator-id-15\" type=\"checkbox\" ><label for=\"sk-estimator-id-15\" class=\"sk-toggleable__label sk-toggleable__label-arrow\">SelectFwe</label><div class=\"sk-toggleable__content\"><pre>SelectFwe(alpha=0.043000000000000003,\n",
       "          score_func=&lt;function f_regression at 0x000002834B8DF820&gt;)</pre></div></div></div><div class=\"sk-item\"><div class=\"sk-estimator sk-toggleable\"><input class=\"sk-toggleable__control sk-hidden--visually\" id=\"sk-estimator-id-16\" type=\"checkbox\" ><label for=\"sk-estimator-id-16\" class=\"sk-toggleable__label sk-toggleable__label-arrow\">MinMaxScaler</label><div class=\"sk-toggleable__content\"><pre>MinMaxScaler()</pre></div></div></div><div class=\"sk-item sk-dashed-wrapped\"><div class=\"sk-label-container\"><div class=\"sk-label sk-toggleable\"><input class=\"sk-toggleable__control sk-hidden--visually\" id=\"sk-estimator-id-17\" type=\"checkbox\" ><label for=\"sk-estimator-id-17\" class=\"sk-toggleable__label sk-toggleable__label-arrow\">stackingestimator-1: StackingEstimator</label><div class=\"sk-toggleable__content\"><pre>StackingEstimator(estimator=LassoLarsCV(normalize=True))</pre></div></div></div><div class=\"sk-parallel\"><div class=\"sk-parallel-item\"><div class=\"sk-item\"><div class=\"sk-label-container\"><div class=\"sk-label sk-toggleable\"><input class=\"sk-toggleable__control sk-hidden--visually\" id=\"sk-estimator-id-18\" type=\"checkbox\" ><label for=\"sk-estimator-id-18\" class=\"sk-toggleable__label sk-toggleable__label-arrow\">estimator: LassoLarsCV</label><div class=\"sk-toggleable__content\"><pre>LassoLarsCV(normalize=True)</pre></div></div></div><div class=\"sk-serial\"><div class=\"sk-item\"><div class=\"sk-estimator sk-toggleable\"><input class=\"sk-toggleable__control sk-hidden--visually\" id=\"sk-estimator-id-19\" type=\"checkbox\" ><label for=\"sk-estimator-id-19\" class=\"sk-toggleable__label sk-toggleable__label-arrow\">LassoLarsCV</label><div class=\"sk-toggleable__content\"><pre>LassoLarsCV(normalize=True)</pre></div></div></div></div></div></div></div></div><div class=\"sk-item sk-dashed-wrapped\"><div class=\"sk-label-container\"><div class=\"sk-label sk-toggleable\"><input class=\"sk-toggleable__control sk-hidden--visually\" id=\"sk-estimator-id-20\" type=\"checkbox\" ><label for=\"sk-estimator-id-20\" class=\"sk-toggleable__label sk-toggleable__label-arrow\">stackingestimator-2: StackingEstimator</label><div class=\"sk-toggleable__content\"><pre>StackingEstimator(estimator=SGDRegressor(alpha=0.01, l1_ratio=1.0,\n",
       "                                         loss=&#x27;squared_loss&#x27;,\n",
       "                                         penalty=&#x27;elasticnet&#x27;, power_t=1.0))</pre></div></div></div><div class=\"sk-parallel\"><div class=\"sk-parallel-item\"><div class=\"sk-item\"><div class=\"sk-label-container\"><div class=\"sk-label sk-toggleable\"><input class=\"sk-toggleable__control sk-hidden--visually\" id=\"sk-estimator-id-21\" type=\"checkbox\" ><label for=\"sk-estimator-id-21\" class=\"sk-toggleable__label sk-toggleable__label-arrow\">estimator: SGDRegressor</label><div class=\"sk-toggleable__content\"><pre>SGDRegressor(alpha=0.01, l1_ratio=1.0, loss=&#x27;squared_loss&#x27;,\n",
       "             penalty=&#x27;elasticnet&#x27;, power_t=1.0)</pre></div></div></div><div class=\"sk-serial\"><div class=\"sk-item\"><div class=\"sk-estimator sk-toggleable\"><input class=\"sk-toggleable__control sk-hidden--visually\" id=\"sk-estimator-id-22\" type=\"checkbox\" ><label for=\"sk-estimator-id-22\" class=\"sk-toggleable__label sk-toggleable__label-arrow\">SGDRegressor</label><div class=\"sk-toggleable__content\"><pre>SGDRegressor(alpha=0.01, l1_ratio=1.0, loss=&#x27;squared_loss&#x27;,\n",
       "             penalty=&#x27;elasticnet&#x27;, power_t=1.0)</pre></div></div></div></div></div></div></div></div><div class=\"sk-item\"><div class=\"sk-estimator sk-toggleable\"><input class=\"sk-toggleable__control sk-hidden--visually\" id=\"sk-estimator-id-23\" type=\"checkbox\" ><label for=\"sk-estimator-id-23\" class=\"sk-toggleable__label sk-toggleable__label-arrow\">XGBRegressor</label><div class=\"sk-toggleable__content\"><pre>XGBRegressor(base_score=0.5, booster=&#x27;gbtree&#x27;, callbacks=None,\n",
       "             colsample_bylevel=1, colsample_bynode=1, colsample_bytree=1,\n",
       "             early_stopping_rounds=None, enable_categorical=False,\n",
       "             eval_metric=None, gamma=0, gpu_id=-1, grow_policy=&#x27;depthwise&#x27;,\n",
       "             importance_type=None, interaction_constraints=&#x27;&#x27;,\n",
       "             learning_rate=0.1, max_bin=256, max_cat_to_onehot=4,\n",
       "             max_delta_step=0, max_depth=1, max_leaves=0, min_child_weight=5,\n",
       "             missing=nan, monotone_constraints=&#x27;()&#x27;, n_estimators=100, n_jobs=1,\n",
       "             num_parallel_tree=1, predictor=&#x27;auto&#x27;, random_state=0, reg_alpha=0,\n",
       "             reg_lambda=1, ...)</pre></div></div></div></div></div></div></div>"
      ],
      "text/plain": [
       "Pipeline(steps=[('selectpercentile',\n",
       "                 SelectPercentile(percentile=49,\n",
       "                                  score_func=<function f_regression at 0x000002834B8DF820>)),\n",
       "                ('selectfwe',\n",
       "                 SelectFwe(alpha=0.043000000000000003,\n",
       "                           score_func=<function f_regression at 0x000002834B8DF820>)),\n",
       "                ('minmaxscaler', MinMaxScaler()),\n",
       "                ('stackingestimator-1',\n",
       "                 StackingEstimator(estimator=LassoLarsCV(normalize=True))),\n",
       "                ('stacki...\n",
       "                              enable_categorical=False, eval_metric=None,\n",
       "                              gamma=0, gpu_id=-1, grow_policy='depthwise',\n",
       "                              importance_type=None, interaction_constraints='',\n",
       "                              learning_rate=0.1, max_bin=256,\n",
       "                              max_cat_to_onehot=4, max_delta_step=0,\n",
       "                              max_depth=1, max_leaves=0, min_child_weight=5,\n",
       "                              missing=nan, monotone_constraints='()',\n",
       "                              n_estimators=100, n_jobs=1, num_parallel_tree=1,\n",
       "                              predictor='auto', random_state=0, reg_alpha=0,\n",
       "                              reg_lambda=1, ...))])"
      ]
     },
     "execution_count": 108,
     "metadata": {},
     "output_type": "execute_result"
    }
   ],
   "source": [
    "model"
   ]
  },
  {
   "cell_type": "markdown",
   "metadata": {},
   "source": [
    "#model 회고     \n",
    "1.Selectpercentile : [Feature Selection] Select features according to a percentile of the highest scores. 일변량 분석(regression p-value값) 기반으로 선택        \n",
    "2.SelectFwe : [Feature Selection]   Filter: Select the p-values corresponding to Family-wise error rate\n",
    "3. Minmax scaler \n",
    "4. stacking estimator 1 : LassoLarsCV\n",
    "5 .stacking estimator 2 : SGD Regressor\n",
    "6. XGBRegressor"
   ]
  },
  {
   "cell_type": "code",
   "execution_count": 105,
   "metadata": {},
   "outputs": [],
   "source": [
    "# model save to disk\n",
    "import pickle\n",
    "filename = 'C:/Users/USER/Desktop/Side/AutoML/TPOT_regressor_model_hansol_choji_220711_all.sav'\n",
    "pickle.dump(model, open(filename, 'wb'))"
   ]
  },
  {
   "cell_type": "code",
   "execution_count": 106,
   "metadata": {},
   "outputs": [
    {
     "data": {
      "text/plain": [
       "2.5406001367719218"
      ]
     },
     "execution_count": 106,
     "metadata": {},
     "output_type": "execute_result"
    }
   ],
   "source": [
    "# load the model from disk\n",
    "loaded_model = pickle.load(open(filename, 'rb'))\n",
    "results_f = loaded_model.predict(testing_features)\n",
    "def SMAPE(y_true, y_pred):\n",
    "    return np.mean( (np.abs(y_true-y_pred)) / ((np.abs(y_true) + np.abs(y_pred))/2) ) * 100\n",
    "SMAPE(testing_targets,results_f)"
   ]
  },
  {
   "cell_type": "code",
   "execution_count": 110,
   "metadata": {},
   "outputs": [
    {
     "data": {
      "text/plain": [
       "Text(0.5, 0, 'Date')"
      ]
     },
     "execution_count": 110,
     "metadata": {},
     "output_type": "execute_result"
    },
    {
     "name": "stderr",
     "output_type": "stream",
     "text": [
      "c:\\Users\\USER\\AppData\\Local\\Programs\\Python\\Python39\\lib\\site-packages\\IPython\\core\\pylabtools.py:151: UserWarning: Glyph 49324 (\\N{HANGUL SYLLABLE SA}) missing from current font.\n",
      "  fig.canvas.print_figure(bytes_io, **kw)\n",
      "c:\\Users\\USER\\AppData\\Local\\Programs\\Python\\Python39\\lib\\site-packages\\IPython\\core\\pylabtools.py:151: UserWarning: Glyph 50857 (\\N{HANGUL SYLLABLE YONG}) missing from current font.\n",
      "  fig.canvas.print_figure(bytes_io, **kw)\n",
      "c:\\Users\\USER\\AppData\\Local\\Programs\\Python\\Python39\\lib\\site-packages\\IPython\\core\\pylabtools.py:151: UserWarning: Glyph 47049 (\\N{HANGUL SYLLABLE RYANG}) missing from current font.\n",
      "  fig.canvas.print_figure(bytes_io, **kw)\n"
     ]
    },
    {
     "data": {
      "image/png": "[encoded data removed]",
      "text/plain": [
       "<Figure size 1440x720 with 1 Axes>"
      ]
     },
     "metadata": {
      "needs_background": "light"
     },
     "output_type": "display_data"
    }
   ],
   "source": [
    "  \n",
    "#result 시각화\n",
    "dd=test_df[['datetime','초지_전력사용량']]\n",
    "dd=dd.reset_index()\n",
    "dd['predict']=pd.DataFrame(results_f)\n",
    "import matplotlib.pyplot as plt\n",
    "plt.figure(figsize=(20,10))\n",
    "plt.plot(dd['datetime'],dd['predict'], 'b')\n",
    "plt.plot(dd['datetime'],dd['초지_전력사용량'], 'r')\n",
    "plt.ylabel('사용량', color='blue')\n",
    "plt.title('compare predict & real')\n",
    "plt.xlabel('Date')"
   ]
  },
  {
   "cell_type": "code",
   "execution_count": null,
   "metadata": {},
   "outputs": [],
   "source": []
  },
  {
   "cell_type": "code",
   "execution_count": null,
   "metadata": {},
   "outputs": [],
   "source": []
  },
  {
   "cell_type": "code",
   "execution_count": null,
   "metadata": {},
   "outputs": [],
   "source": []
  },
  {
   "cell_type": "code",
   "execution_count": null,
   "metadata": {},
   "outputs": [],
   "source": []
  },
  {
   "cell_type": "code",
   "execution_count": null,
   "metadata": {},
   "outputs": [],
   "source": []
  },
  {
   "cell_type": "markdown",
   "metadata": {},
   "source": [
    "기능화는 ?       \n",
    "(1) 사용자가 PC에 저장된 csv파일을 Upload해서      \n",
    "(2) 문제 유형(분류/회귀)을 선택하고      \n",
    "(3) Target 을 설정하고,       \n",
    "(4) tpot으로 자동 생성된 모델들을 비교하고,      \n",
    "(5) Best Model을 만들 수 있는 코드를 받는다."
   ]
  },
  {
   "cell_type": "markdown",
   "metadata": {},
   "source": []
  }
 ],
 "metadata": {
  "kernelspec": {
   "display_name": "Python 3.9.7 64-bit",
   "language": "python",
   "name": "python3"
  },
  "language_info": {
   "codemirror_mode": {
    "name": "ipython",
    "version": 3
   },
   "file_extension": ".py",
   "mimetype": "text/x-python",
   "name": "python",
   "nbconvert_exporter": "python",
   "pygments_lexer": "ipython3",
   "version": "3.9.7"
  },
  "orig_nbformat": 4,
  "vscode": {
   "interpreter": {
    "hash": "1d5c1156327dacead463cc502c55ebae8ce9c8c01979cf154173ff808e75bf55"
   }
  }
 },
 "nbformat": 4,
 "nbformat_minor": 2
}
